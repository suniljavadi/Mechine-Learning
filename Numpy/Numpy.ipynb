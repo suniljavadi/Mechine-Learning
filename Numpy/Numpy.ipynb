{
 "cells": [
  {
   "cell_type": "markdown",
   "id": "2d5ec654",
   "metadata": {
    "id": "2d5ec654"
   },
   "source": [
    "# Numpy"
   ]
  },
  {
   "cell_type": "code",
   "execution_count": null,
   "id": "zeMY_E7IhPDc",
   "metadata": {
    "id": "zeMY_E7IhPDc"
   },
   "outputs": [],
   "source": []
  },
  {
   "cell_type": "code",
   "execution_count": null,
   "id": "KpctS99FhPFS",
   "metadata": {
    "id": "KpctS99FhPFS"
   },
   "outputs": [],
   "source": []
  },
  {
   "cell_type": "markdown",
   "id": "b862e1e5",
   "metadata": {
    "id": "b862e1e5"
   },
   "source": [
    "- Stands for Numerical Python and is the Core library for numerical computations\n",
    "- Provides functionalities to make multi-dimensional arrays (1D, 2D, 3D or nD arrays)\n",
    "\n",
    "\n",
    "- We have lists that we can use to create multi-dimensional lists instead of using arrays to perform these tasks, so why do we need Numpy?\n",
    "\n",
    "\n",
    "- The advantages of using Numpy is Memory efficient, Faster, lot of convenience and functionalties.\n",
    "- Numpy is built on C language which makes it so much faster."
   ]
  },
  {
   "cell_type": "markdown",
   "id": "2a2f1842",
   "metadata": {
    "id": "2a2f1842"
   },
   "source": [
    "Numpy contains `integers` and `floating point objects` and also some `containers like Lists and Dictionaries` built-in for faster mathematical calculations"
   ]
  },
  {
   "cell_type": "markdown",
   "id": "7a9fc4d4",
   "metadata": {
    "id": "7a9fc4d4"
   },
   "source": [
    "\n",
    "<div>\n",
    "<img src=\"attachment:Nd%20Arrays.png\" width=\"500\"/>\n",
    "</div>"
   ]
  },
  {
   "cell_type": "markdown",
   "id": "9eadaf3b",
   "metadata": {
    "id": "9eadaf3b"
   },
   "source": [
    "In NumPy, dimensions are called **axes**. In the 2-d array above, there are two axes, having two and three elements respectively. \n",
    "\n",
    "In NumPy terminology, for 2-D arrays:\n",
    "* ```axis = 0``` refers to the axis running vertically downwards across rows\n",
    "* ```axis = 1``` refers to the axis running horizontally across columns\n",
    "\n",
    "<img src=\"numpy_axes.jpg\" style=\"width: 600px; height: 400px\">"
   ]
  },
  {
   "cell_type": "markdown",
   "id": "611c0e06",
   "metadata": {
    "id": "611c0e06"
   },
   "source": [
    "## Import Numpy Package"
   ]
  },
  {
   "cell_type": "code",
   "execution_count": 1,
   "id": "84dc069d",
   "metadata": {
    "id": "84dc069d"
   },
   "outputs": [],
   "source": [
    "import numpy as np"
   ]
  },
  {
   "cell_type": "markdown",
   "id": "2104a152",
   "metadata": {
    "id": "2104a152"
   },
   "source": [
    "### Memory comparisons of Lists and Numpy Arrays"
   ]
  },
  {
   "cell_type": "code",
   "execution_count": 10,
   "id": "86898bf2",
   "metadata": {
    "colab": {
     "base_uri": "https://localhost:8080/"
    },
    "executionInfo": {
     "elapsed": 12,
     "status": "ok",
     "timestamp": 1685263312159,
     "user": {
      "displayName": "Sunil Javadi",
      "userId": "04099595876230847094"
     },
     "user_tz": -330
    },
    "id": "86898bf2",
    "outputId": "1992bbd2-33c7-4428-eddc-6127564178f6"
   },
   "outputs": [
    {
     "name": "stdout",
     "output_type": "stream",
     "text": [
      "[0, 1, 2, 3, 4, 5, 6, 7, 8, 9, 10, 11, 12, 13, 14, 15, 16, 17, 18, 19, 20, 21, 22, 23, 24, 25, 26, 27, 28, 29, 30, 31, 32, 33, 34, 35, 36, 37, 38, 39, 40, 41, 42, 43, 44, 45, 46, 47, 48, 49, 50, 51, 52, 53, 54, 55, 56, 57, 58, 59, 60, 61, 62, 63, 64, 65, 66, 67, 68, 69, 70, 71, 72, 73, 74, 75, 76, 77, 78, 79, 80, 81, 82, 83, 84, 85, 86, 87, 88, 89, 90, 91, 92, 93, 94, 95, 96, 97, 98, 99]\n",
      "[ 0  1  2  3  4  5  6  7  8  9 10 11 12 13 14 15 16 17 18 19 20 21 22 23\n",
      " 24 25 26 27 28 29 30 31 32 33 34 35 36 37 38 39 40 41 42 43 44 45 46 47\n",
      " 48 49 50 51 52 53 54 55 56 57 58 59 60 61 62 63 64 65 66 67 68 69 70 71\n",
      " 72 73 74 75 76 77 78 79 80 81 82 83 84 85 86 87 88 89 90 91 92 93 94 95\n",
      " 96 97 98 99]\n"
     ]
    }
   ],
   "source": [
    "li_arr = [i for i in range(100)]\n",
    "np_arr = np.arange(100)\n",
    "\n",
    "print(li_arr)\n",
    "print(np_arr)"
   ]
  },
  {
   "cell_type": "code",
   "execution_count": 23,
   "id": "a4952276",
   "metadata": {
    "colab": {
     "base_uri": "https://localhost:8080/"
    },
    "executionInfo": {
     "elapsed": 9,
     "status": "ok",
     "timestamp": 1685263312160,
     "user": {
      "displayName": "Sunil Javadi",
      "userId": "04099595876230847094"
     },
     "user_tz": -330
    },
    "id": "a4952276",
    "outputId": "0018f302-f2fb-4f0a-bd9f-5549b74cd5da"
   },
   "outputs": [
    {
     "name": "stdout",
     "output_type": "stream",
     "text": [
      "28\n",
      "104\n"
     ]
    }
   ],
   "source": [
    "import sys\n",
    "\n",
    "var1 = 100\n",
    "print(sys.getsizeof(var1))  # Checking the size of one Python Variable\n",
    "\n",
    "list1 = [10,20,30,40,50]\n",
    "print(sys.getsizeof(list1)) # Checking the size of a list with some elements"
   ]
  },
  {
   "cell_type": "code",
   "execution_count": null,
   "id": "e3f1097f",
   "metadata": {
    "id": "e3f1097f",
    "outputId": "8a0aaa72-e2b4-4841-ff72-e9e73b43e1ae"
   },
   "outputs": [
    {
     "name": "stdout",
     "output_type": "stream",
     "text": [
      "Size of li_arr: 904bytes\n",
      "904\n"
     ]
    }
   ],
   "source": [
    "# Checking the memory that a list with 100 element occupies\n",
    "\n",
    "import sys\n",
    "print(\"Size of li_arr: \" + str(sys.getsizeof(li_arr)) + \"bytes\")\n",
    "print(sys.getsizeof(li_arr))"
   ]
  },
  {
   "cell_type": "code",
   "execution_count": null,
   "id": "2fb625ee",
   "metadata": {
    "id": "2fb625ee",
    "outputId": "863f7138-1942-4c5d-8612-601bcf64948e"
   },
   "outputs": [
    {
     "name": "stdout",
     "output_type": "stream",
     "text": [
      "4\n",
      "100\n",
      "400\n"
     ]
    }
   ],
   "source": [
    "# Checking the memory occupied by a numpy array containing 100 elements\n",
    "\n",
    "print(np_arr.itemsize)\n",
    "print(np_arr.size)\n",
    "print(np_arr.itemsize * np_arr.size)"
   ]
  },
  {
   "cell_type": "markdown",
   "id": "6b5c0007",
   "metadata": {
    "id": "6b5c0007"
   },
   "source": [
    "Now let's check for large values to see the real difference"
   ]
  },
  {
   "cell_type": "code",
   "execution_count": 25,
   "id": "8bc7eed6",
   "metadata": {
    "id": "8bc7eed6",
    "outputId": "15c8c822-7c1c-4c35-fce5-8ff0757e23e2"
   },
   "outputs": [
    {
     "name": "stdout",
     "output_type": "stream",
     "text": [
      "800984\n",
      "400000\n"
     ]
    }
   ],
   "source": [
    "li_arr1 = [i for i in range(100000)]\n",
    "np_arr1 = np.arange(10000)\n",
    "\n",
    "print(sys.getsizeof(li_arr1))\n",
    "print(np_arr1.itemsize * np_arr1.size)"
   ]
  },
  {
   "cell_type": "markdown",
   "id": "aa525da5",
   "metadata": {
    "id": "aa525da5"
   },
   "source": [
    "### Let's see how fast a numpy array is, compared to a list"
   ]
  },
  {
   "cell_type": "code",
   "execution_count": 26,
   "id": "d4a61cb8",
   "metadata": {
    "id": "d4a61cb8",
    "outputId": "8dc64c5f-00cb-4304-a9be-f7bb29a2e51f"
   },
   "outputs": [
    {
     "name": "stdout",
     "output_type": "stream",
     "text": [
      "313 µs ± 17.2 µs per loop (mean ± std. dev. of 7 runs, 1,000 loops each)\n"
     ]
    }
   ],
   "source": [
    "#python lists\n",
    "L = range(1000) #0 - 999\n",
    "%timeit [i**2 for i in L]"
   ]
  },
  {
   "cell_type": "code",
   "execution_count": 27,
   "id": "669a6a10",
   "metadata": {
    "id": "669a6a10",
    "outputId": "cb3a954d-6992-4037-b371-8d8432ae1711"
   },
   "outputs": [
    {
     "name": "stdout",
     "output_type": "stream",
     "text": [
      "1.95 µs ± 166 ns per loop (mean ± std. dev. of 7 runs, 100,000 loops each)\n"
     ]
    }
   ],
   "source": [
    "a = np.arange(1000)\n",
    "%timeit a**2"
   ]
  },
  {
   "cell_type": "markdown",
   "id": "e17e4feb",
   "metadata": {
    "id": "e17e4feb"
   },
   "source": [
    "## 1. Creating Numpy Arrays"
   ]
  },
  {
   "cell_type": "markdown",
   "id": "f696b295",
   "metadata": {
    "id": "f696b295"
   },
   "source": [
    "There are multiple ways to create numpy arrays, the most commmon ones being:\n",
    "* Convert lists or tuples to arrays using ```np.array()```, as done above\n",
    "* Initialise arrays of fixed size (when the size is known) "
   ]
  },
  {
   "cell_type": "markdown",
   "id": "4d7ca36e",
   "metadata": {
    "id": "4d7ca36e"
   },
   "source": [
    "### <font color='maroon'>1.1 Manually creating numpy arrays</font>"
   ]
  },
  {
   "cell_type": "code",
   "execution_count": 28,
   "id": "becf8a30",
   "metadata": {
    "id": "becf8a30"
   },
   "outputs": [],
   "source": [
    "import numpy as np"
   ]
  },
  {
   "cell_type": "code",
   "execution_count": 36,
   "id": "ad5f7cd6",
   "metadata": {
    "id": "ad5f7cd6",
    "outputId": "39b2d9e0-2b1b-4b49-e2e5-65f72fefee41"
   },
   "outputs": [
    {
     "data": {
      "text/plain": [
       "array([ 20,  40,  60,  80, 100, 120, 140, 160])"
      ]
     },
     "execution_count": 36,
     "metadata": {},
     "output_type": "execute_result"
    }
   ],
   "source": [
    "list1 = [10,20,30,40,50,60,70,80]\n",
    "\n",
    "arr1 = np.array(list1)\n",
    "arr2=np.array(list1)\n",
    "arr1+arr2"
   ]
  },
  {
   "cell_type": "code",
   "execution_count": 37,
   "id": "4c04bc97",
   "metadata": {
    "id": "4c04bc97",
    "outputId": "70c11fea-5b18-4862-b925-7595146579dc"
   },
   "outputs": [
    {
     "data": {
      "text/plain": [
       "numpy.ndarray"
      ]
     },
     "execution_count": 37,
     "metadata": {},
     "output_type": "execute_result"
    }
   ],
   "source": [
    "type(arr1)"
   ]
  },
  {
   "cell_type": "code",
   "execution_count": 38,
   "id": "2aff0f32",
   "metadata": {
    "id": "2aff0f32",
    "outputId": "21bc75c5-6e66-4e18-c56f-8f1d461bcb0f"
   },
   "outputs": [
    {
     "data": {
      "text/plain": [
       "array([10, 20, 30, 40, 50, 60, 70])"
      ]
     },
     "execution_count": 38,
     "metadata": {},
     "output_type": "execute_result"
    }
   ],
   "source": [
    "tuple1 = (10,20,30,40,50,60,70)\n",
    "\n",
    "np.array(tuple1)"
   ]
  },
  {
   "cell_type": "code",
   "execution_count": null,
   "id": "aeb78885",
   "metadata": {
    "id": "aeb78885"
   },
   "outputs": [],
   "source": []
  },
  {
   "cell_type": "code",
   "execution_count": null,
   "id": "f102c291",
   "metadata": {
    "id": "f102c291"
   },
   "outputs": [],
   "source": []
  },
  {
   "cell_type": "code",
   "execution_count": null,
   "id": "a9116716",
   "metadata": {
    "id": "a9116716"
   },
   "outputs": [],
   "source": []
  },
  {
   "cell_type": "code",
   "execution_count": null,
   "id": "957ef057",
   "metadata": {
    "id": "957ef057"
   },
   "outputs": [],
   "source": []
  },
  {
   "cell_type": "code",
   "execution_count": 39,
   "id": "67da8f1d",
   "metadata": {
    "id": "67da8f1d"
   },
   "outputs": [],
   "source": [
    "#Creating an array from a list\n",
    "lst = [1,2,3,4]\n",
    "arr_list = np.array(lst)"
   ]
  },
  {
   "cell_type": "code",
   "execution_count": 40,
   "id": "e9e98f71",
   "metadata": {
    "id": "e9e98f71"
   },
   "outputs": [
    {
     "data": {
      "text/plain": [
       "array([10, 20, 30, 40, 50])"
      ]
     },
     "execution_count": 40,
     "metadata": {},
     "output_type": "execute_result"
    }
   ],
   "source": [
    "arr1 = np.array([10,20,30,40,50])\n",
    "arr1"
   ]
  },
  {
   "cell_type": "code",
   "execution_count": 41,
   "id": "d7ebb687",
   "metadata": {
    "colab": {
     "base_uri": "https://localhost:8080/",
     "height": 201
    },
    "executionInfo": {
     "elapsed": 30,
     "status": "error",
     "timestamp": 1685445128293,
     "user": {
      "displayName": "Sunil Javadi",
      "userId": "04099595876230847094"
     },
     "user_tz": -330
    },
    "id": "d7ebb687",
    "outputId": "7e89567c-7eff-4130-e530-671ef6221b15"
   },
   "outputs": [
    {
     "data": {
      "text/plain": [
       "array([1, 2, 3, 4])"
      ]
     },
     "execution_count": 41,
     "metadata": {},
     "output_type": "execute_result"
    }
   ],
   "source": [
    "# Creating an array from a Tuple\n",
    "tup = (1,2,3,4)\n",
    "np.array(tup)"
   ]
  },
  {
   "cell_type": "code",
   "execution_count": 42,
   "id": "2e8a2be4",
   "metadata": {
    "id": "2e8a2be4"
   },
   "outputs": [
    {
     "data": {
      "text/plain": [
       "array([1, 2, 3, 4])"
      ]
     },
     "execution_count": 42,
     "metadata": {},
     "output_type": "execute_result"
    }
   ],
   "source": [
    "# Pass tuple directly to create a numpy array\n",
    "arr_tup = np.array((1,2,3,4))\n",
    "arr_tup"
   ]
  },
  {
   "cell_type": "code",
   "execution_count": 43,
   "id": "7bf40da6",
   "metadata": {
    "id": "7bf40da6"
   },
   "outputs": [
    {
     "data": {
      "text/plain": [
       "1"
      ]
     },
     "execution_count": 43,
     "metadata": {},
     "output_type": "execute_result"
    }
   ],
   "source": [
    "#Print Dimension of array 'arr_list'\n",
    "\n",
    "arr_list.ndim"
   ]
  },
  {
   "cell_type": "code",
   "execution_count": 44,
   "id": "47570aa5",
   "metadata": {
    "id": "47570aa5"
   },
   "outputs": [
    {
     "data": {
      "text/plain": [
       "(4,)"
      ]
     },
     "execution_count": 44,
     "metadata": {},
     "output_type": "execute_result"
    }
   ],
   "source": [
    "# Print Shape of array 'arr_list'\n",
    "\n",
    "arr_list.shape"
   ]
  },
  {
   "cell_type": "markdown",
   "id": "586f7418",
   "metadata": {
    "id": "586f7418"
   },
   "source": [
    "**<font color='blue'>Creating a 2-D Array</font>**"
   ]
  },
  {
   "cell_type": "code",
   "execution_count": 50,
   "id": "15ea1a67",
   "metadata": {
    "id": "15ea1a67"
   },
   "outputs": [
    {
     "data": {
      "text/plain": [
       "array([[ 1,  2,  3,  4],\n",
       "       [ 4,  5,  6,  7],\n",
       "       [ 8,  9, 10, 11]])"
      ]
     },
     "execution_count": 50,
     "metadata": {},
     "output_type": "execute_result"
    }
   ],
   "source": [
    "# Creating a 2-D Array\n",
    "\n",
    "arr_2d = np.array([[1,2,3,4], [4,5,6,7],[8,9,10,11]]) # Lists within a List\n",
    "arr_2d"
   ]
  },
  {
   "cell_type": "code",
   "execution_count": 51,
   "id": "83dd55d8",
   "metadata": {
    "id": "83dd55d8"
   },
   "outputs": [
    {
     "name": "stdout",
     "output_type": "stream",
     "text": [
      "2\n"
     ]
    }
   ],
   "source": [
    "print(arr_2d.ndim)"
   ]
  },
  {
   "cell_type": "code",
   "execution_count": 52,
   "id": "d5306732",
   "metadata": {
    "id": "d5306732"
   },
   "outputs": [
    {
     "name": "stdout",
     "output_type": "stream",
     "text": [
      "(3, 4)\n"
     ]
    }
   ],
   "source": [
    "print(arr_2d.shape) # (rows,columns)"
   ]
  },
  {
   "cell_type": "markdown",
   "id": "fae3216e",
   "metadata": {
    "id": "fae3216e"
   },
   "source": [
    "**<font color='darkblue'> 1D Array is called Vector, 2D Array is called Matrix, nD Array is called Tensor </font>**"
   ]
  },
  {
   "cell_type": "markdown",
   "id": "c73acf40",
   "metadata": {
    "id": "c73acf40"
   },
   "source": [
    "### <font color='maroon'>1.2  Creating arrays using functions</font>"
   ]
  },
  {
   "cell_type": "markdown",
   "id": "5337f276",
   "metadata": {
    "id": "5337f276"
   },
   "source": [
    "The other common way is to initialise arrays using built-in functions. \n",
    "\n",
    "The following ways are commonly used:\n",
    "* ```np.ones()```: Create array of 1s\n",
    "* ```np.zeros()```: Create array of 0s\n",
    "* ```np.random.random()```: Create array of random numbers\n",
    "* ```np.arange()```: Create array with increments of a fixed step size\n",
    "* ```np.linspace()```: Create array of fixed length\n",
    "* ```np.diag()```: Constructs a diagonal array"
   ]
  },
  {
   "cell_type": "code",
   "execution_count": 53,
   "id": "701de3a8",
   "metadata": {
    "id": "701de3a8",
    "outputId": "b6f02bd1-1e5b-4047-f5c6-08793db59d97"
   },
   "outputs": [
    {
     "data": {
      "text/plain": [
       "array([1000.,  995.,  990.,  985.,  980.,  975.,  970.,  965.,  960.,\n",
       "        955.,  950.,  945.,  940.,  935.,  930.,  925.,  920.,  915.,\n",
       "        910.,  905.,  900.,  895.,  890.,  885.,  880.,  875.,  870.,\n",
       "        865.,  860.,  855.,  850.,  845.,  840.,  835.,  830.,  825.,\n",
       "        820.,  815.,  810.,  805.,  800.,  795.,  790.,  785.,  780.,\n",
       "        775.,  770.,  765.,  760.,  755.,  750.,  745.,  740.,  735.,\n",
       "        730.,  725.,  720.,  715.,  710.,  705.,  700.,  695.,  690.,\n",
       "        685.,  680.,  675.,  670.,  665.,  660.,  655.,  650.,  645.,\n",
       "        640.,  635.,  630.,  625.,  620.,  615.,  610.,  605.,  600.,\n",
       "        595.,  590.,  585.,  580.,  575.,  570.,  565.,  560.,  555.,\n",
       "        550.,  545.,  540.,  535.,  530.,  525.,  520.,  515.,  510.,\n",
       "        505.,  500.,  495.,  490.,  485.,  480.,  475.,  470.,  465.,\n",
       "        460.,  455.,  450.,  445.,  440.,  435.,  430.,  425.,  420.,\n",
       "        415.,  410.,  405.,  400.,  395.,  390.,  385.,  380.,  375.,\n",
       "        370.,  365.,  360.,  355.,  350.,  345.,  340.,  335.,  330.,\n",
       "        325.,  320.,  315.,  310.,  305.,  300.,  295.,  290.,  285.,\n",
       "        280.,  275.,  270.,  265.,  260.,  255.,  250.,  245.,  240.,\n",
       "        235.,  230.,  225.,  220.,  215.,  210.,  205.,  200.,  195.,\n",
       "        190.,  185.,  180.,  175.,  170.,  165.,  160.,  155.,  150.,\n",
       "        145.,  140.,  135.,  130.,  125.,  120.,  115.,  110.,  105.,\n",
       "        100.,   95.,   90.,   85.,   80.,   75.,   70.,   65.,   60.,\n",
       "         55.,   50.,   45.,   40.,   35.,   30.,   25.,   20.,   15.,\n",
       "         10.])"
      ]
     },
     "execution_count": 53,
     "metadata": {},
     "output_type": "execute_result"
    }
   ],
   "source": [
    "np.arange(1000, 5, -5, dtype = 'float')"
   ]
  },
  {
   "cell_type": "code",
   "execution_count": 54,
   "id": "a27c3ada",
   "metadata": {
    "colab": {
     "base_uri": "https://localhost:8080/",
     "height": 166
    },
    "executionInfo": {
     "elapsed": 2172,
     "status": "error",
     "timestamp": 1685447753355,
     "user": {
      "displayName": "Sunil Javadi",
      "userId": "04099595876230847094"
     },
     "user_tz": -330
    },
    "id": "a27c3ada",
    "outputId": "eb676341-47a4-4c51-c164-bc0de2e8ca77"
   },
   "outputs": [
    {
     "data": {
      "text/plain": [
       "array([[0, 0, 0, 0, 0, 0],\n",
       "       [0, 0, 0, 0, 0, 0],\n",
       "       [0, 0, 0, 0, 0, 0],\n",
       "       [0, 0, 0, 0, 0, 0],\n",
       "       [0, 0, 0, 0, 0, 0]])"
      ]
     },
     "execution_count": 54,
     "metadata": {},
     "output_type": "execute_result"
    }
   ],
   "source": [
    "np.zeros((5,6), dtype = 'int')"
   ]
  },
  {
   "cell_type": "code",
   "execution_count": 55,
   "id": "d9b2e613",
   "metadata": {
    "id": "d9b2e613",
    "outputId": "f6421179-d356-45e1-d41a-c5add9a0013e"
   },
   "outputs": [
    {
     "data": {
      "text/plain": [
       "array([[1, 1, 1, 1, 1, 1],\n",
       "       [1, 1, 1, 1, 1, 1],\n",
       "       [1, 1, 1, 1, 1, 1],\n",
       "       [1, 1, 1, 1, 1, 1]])"
      ]
     },
     "execution_count": 55,
     "metadata": {},
     "output_type": "execute_result"
    }
   ],
   "source": [
    "np.ones((4,6), dtype = 'int')"
   ]
  },
  {
   "cell_type": "code",
   "execution_count": 56,
   "id": "bfdd8f58",
   "metadata": {
    "id": "bfdd8f58",
    "outputId": "9708b094-bfa8-4c88-adab-355221797cdf"
   },
   "outputs": [
    {
     "data": {
      "text/plain": [
       "array([[20, 20, 20, 20, 20],\n",
       "       [20, 20, 20, 20, 20],\n",
       "       [20, 20, 20, 20, 20],\n",
       "       [20, 20, 20, 20, 20],\n",
       "       [20, 20, 20, 20, 20]])"
      ]
     },
     "execution_count": 56,
     "metadata": {},
     "output_type": "execute_result"
    }
   ],
   "source": [
    "np.full((5,5), 20)"
   ]
  },
  {
   "cell_type": "code",
   "execution_count": 57,
   "id": "e7f6bf53",
   "metadata": {
    "id": "e7f6bf53",
    "outputId": "3678323c-9247-4192-ce1c-44607b65f4a0"
   },
   "outputs": [
    {
     "data": {
      "text/plain": [
       "array([[20,  0,  0,  0,  0,  0],\n",
       "       [ 0, 30,  0,  0,  0,  0],\n",
       "       [ 0,  0, 40,  0,  0,  0],\n",
       "       [ 0,  0,  0, 50,  0,  0],\n",
       "       [ 0,  0,  0,  0, 60,  0],\n",
       "       [ 0,  0,  0,  0,  0, 65]])"
      ]
     },
     "execution_count": 57,
     "metadata": {},
     "output_type": "execute_result"
    }
   ],
   "source": [
    "np.diag([20,30,40,50,60, 65])"
   ]
  },
  {
   "cell_type": "code",
   "execution_count": 58,
   "id": "bec19438",
   "metadata": {
    "id": "bec19438",
    "outputId": "552c6aea-3853-4776-a224-c0dac7eda911"
   },
   "outputs": [
    {
     "data": {
      "text/plain": [
       "array([[0.47579014, 0.09057644, 0.09670827, 0.17151908, 0.22824776],\n",
       "       [0.88670351, 0.29025385, 0.16534244, 0.38854665, 0.31861853],\n",
       "       [0.99430138, 0.50065002, 0.42052886, 0.93408554, 0.18098642],\n",
       "       [0.73782274, 0.34998349, 0.25771003, 0.14511405, 0.49104052],\n",
       "       [0.92440515, 0.650214  , 0.3194691 , 0.83848263, 0.50812519]])"
      ]
     },
     "execution_count": 58,
     "metadata": {},
     "output_type": "execute_result"
    }
   ],
   "source": [
    "np.random.random((5,5))"
   ]
  },
  {
   "cell_type": "code",
   "execution_count": 59,
   "id": "370331b0",
   "metadata": {
    "id": "370331b0",
    "outputId": "07ff5b99-4b12-486e-811c-202a6c985c03"
   },
   "outputs": [
    {
     "data": {
      "text/plain": [
       "array([[61, 90, 73, 91, 89],\n",
       "       [95, 77, 84, 94, 93],\n",
       "       [90, 95, 83, 63, 58],\n",
       "       [64, 56, 53, 73, 57],\n",
       "       [76, 92, 86, 92, 61]])"
      ]
     },
     "execution_count": 59,
     "metadata": {},
     "output_type": "execute_result"
    }
   ],
   "source": [
    "np.random.randint(50, 100, size = (5,5))"
   ]
  },
  {
   "cell_type": "code",
   "execution_count": null,
   "id": "4f351261",
   "metadata": {
    "id": "4f351261"
   },
   "outputs": [],
   "source": []
  },
  {
   "cell_type": "code",
   "execution_count": null,
   "id": "96030366",
   "metadata": {
    "id": "96030366"
   },
   "outputs": [],
   "source": []
  },
  {
   "cell_type": "code",
   "execution_count": null,
   "id": "d241857a",
   "metadata": {
    "id": "d241857a"
   },
   "outputs": [],
   "source": []
  },
  {
   "cell_type": "code",
   "execution_count": null,
   "id": "8172d85f",
   "metadata": {
    "id": "8172d85f"
   },
   "outputs": [],
   "source": []
  },
  {
   "cell_type": "code",
   "execution_count": 61,
   "id": "1c1d38eb",
   "metadata": {
    "colab": {
     "base_uri": "https://localhost:8080/",
     "height": 218
    },
    "executionInfo": {
     "elapsed": 1371,
     "status": "error",
     "timestamp": 1685454206999,
     "user": {
      "displayName": "Sunil Javadi",
      "userId": "04099595876230847094"
     },
     "user_tz": -330
    },
    "id": "1c1d38eb",
    "outputId": "1e8ebf74-09f1-42f7-d6fc-50b71d88f9be"
   },
   "outputs": [
    {
     "data": {
      "text/plain": [
       "array([ 0,  1,  2,  3,  4,  5,  6,  7,  8,  9, 10, 11, 12, 13, 14])"
      ]
     },
     "execution_count": 61,
     "metadata": {},
     "output_type": "execute_result"
    }
   ],
   "source": [
    "#using arange function\n",
    "# arange is an array-valued version of the built-in Python range function\n",
    "\n",
    "arr1 = np.arange(15) # 0.... n-1\n",
    "arr1"
   ]
  },
  {
   "cell_type": "code",
   "execution_count": 62,
   "id": "2bb7df0c",
   "metadata": {
    "id": "2bb7df0c"
   },
   "outputs": [
    {
     "data": {
      "text/plain": [
       "array([10, 11, 12, 13, 14, 15, 16, 17, 18, 19])"
      ]
     },
     "execution_count": 62,
     "metadata": {},
     "output_type": "execute_result"
    }
   ],
   "source": [
    "arr_step = np.arange(10,20) #start, end (exclusive), step\n",
    "arr_step"
   ]
  },
  {
   "cell_type": "code",
   "execution_count": 63,
   "id": "e2e543a0",
   "metadata": {
    "id": "e2e543a0"
   },
   "outputs": [
    {
     "data": {
      "text/plain": [
       "array([ 0.  ,  6.25, 12.5 , 18.75, 25.  , 31.25, 37.5 , 43.75, 50.  ])"
      ]
     },
     "execution_count": 63,
     "metadata": {},
     "output_type": "execute_result"
    }
   ],
   "source": [
    "# Create an array of linearly spaced out values in the given range\n",
    "\n",
    "arr_lin = np.linspace(0,50,9) #start, end, number of points\n",
    "arr_lin"
   ]
  },
  {
   "cell_type": "code",
   "execution_count": 64,
   "id": "cb3fcf8a",
   "metadata": {
    "id": "cb3fcf8a"
   },
   "outputs": [
    {
     "data": {
      "text/plain": [
       "array([[1, 1, 1],\n",
       "       [1, 1, 1],\n",
       "       [1, 1, 1],\n",
       "       [1, 1, 1]])"
      ]
     },
     "execution_count": 64,
     "metadata": {},
     "output_type": "execute_result"
    }
   ],
   "source": [
    "arr3 = np.ones((4,3), dtype='int')\n",
    "arr3"
   ]
  },
  {
   "cell_type": "code",
   "execution_count": 65,
   "id": "4fc1fd68",
   "metadata": {
    "id": "4fc1fd68"
   },
   "outputs": [
    {
     "data": {
      "text/plain": [
       "array([[0., 0., 0.],\n",
       "       [0., 0., 0.],\n",
       "       [0., 0., 0.]])"
      ]
     },
     "execution_count": 65,
     "metadata": {},
     "output_type": "execute_result"
    }
   ],
   "source": [
    "arr4 = np.zeros((3,3))\n",
    "arr4"
   ]
  },
  {
   "cell_type": "code",
   "execution_count": 66,
   "id": "2546865d",
   "metadata": {
    "id": "2546865d"
   },
   "outputs": [
    {
     "data": {
      "text/plain": [
       "array([[20, 20, 20, 20, 20],\n",
       "       [20, 20, 20, 20, 20],\n",
       "       [20, 20, 20, 20, 20],\n",
       "       [20, 20, 20, 20, 20],\n",
       "       [20, 20, 20, 20, 20]])"
      ]
     },
     "execution_count": 66,
     "metadata": {},
     "output_type": "execute_result"
    }
   ],
   "source": [
    "arr_full = np.full((5,5), 20)\n",
    "arr_full"
   ]
  },
  {
   "cell_type": "code",
   "execution_count": 67,
   "id": "20206309",
   "metadata": {
    "id": "20206309"
   },
   "outputs": [
    {
     "data": {
      "text/plain": [
       "array([[1., 0., 0., 0., 0.],\n",
       "       [0., 1., 0., 0., 0.],\n",
       "       [0., 0., 1., 0., 0.],\n",
       "       [0., 0., 0., 1., 0.],\n",
       "       [0., 0., 0., 0., 1.]])"
      ]
     },
     "execution_count": 67,
     "metadata": {},
     "output_type": "execute_result"
    }
   ],
   "source": [
    "arr_eye = np.eye(5)\n",
    "arr_eye"
   ]
  },
  {
   "cell_type": "code",
   "execution_count": 68,
   "id": "940cca80",
   "metadata": {
    "id": "940cca80"
   },
   "outputs": [
    {
     "data": {
      "text/plain": [
       "array([[10,  0,  0,  0],\n",
       "       [ 0, 20,  0,  0],\n",
       "       [ 0,  0, 13,  0],\n",
       "       [ 0,  0,  0, 42]])"
      ]
     },
     "execution_count": 68,
     "metadata": {},
     "output_type": "execute_result"
    }
   ],
   "source": [
    "#create array using diag function\n",
    "arr_diag = np.diag([10,20,13,42]) #constructs a diagonal array.\n",
    "arr_diag"
   ]
  },
  {
   "cell_type": "code",
   "execution_count": 69,
   "id": "516f8e1e",
   "metadata": {
    "id": "516f8e1e"
   },
   "outputs": [
    {
     "data": {
      "text/plain": [
       "array([10, 20, 13, 42])"
      ]
     },
     "execution_count": 69,
     "metadata": {},
     "output_type": "execute_result"
    }
   ],
   "source": [
    "# Extract diagonal values\n",
    "np.diag(arr_diag)"
   ]
  },
  {
   "cell_type": "code",
   "execution_count": 70,
   "id": "dd76bcab",
   "metadata": {
    "id": "dd76bcab"
   },
   "outputs": [
    {
     "data": {
      "text/plain": [
       "array([[0.93414667, 0.93962458, 0.24518025, 0.4037018 ],\n",
       "       [0.97420832, 0.75320003, 0.20416721, 0.91110813],\n",
       "       [0.00347854, 0.69311202, 0.84531796, 0.07430903],\n",
       "       [0.0799414 , 0.93265117, 0.92158896, 0.58224222],\n",
       "       [0.33018071, 0.76699777, 0.06879087, 0.62773023]])"
      ]
     },
     "execution_count": 70,
     "metadata": {},
     "output_type": "execute_result"
    }
   ],
   "source": [
    "#Return random floats in the half-open interval [0.0, 1.0)\n",
    "\n",
    "arr_random = np.random.random((5,4)) \n",
    "arr_random"
   ]
  },
  {
   "cell_type": "code",
   "execution_count": 71,
   "id": "104798f7",
   "metadata": {
    "id": "104798f7"
   },
   "outputs": [
    {
     "data": {
      "text/plain": [
       "array([[61, 12, 25, 87],\n",
       "       [74, 74, 76, 81],\n",
       "       [26, 15, 25, 92],\n",
       "       [20, 67, 10, 91],\n",
       "       [82, 35, 74, 34],\n",
       "       [68, 61, 47, 51]])"
      ]
     },
     "execution_count": 71,
     "metadata": {},
     "output_type": "execute_result"
    }
   ],
   "source": [
    "random_int = np.random.randint(10 ,100,size=(6,4))\n",
    "random_int"
   ]
  },
  {
   "cell_type": "markdown",
   "id": "f5837010",
   "metadata": {
    "id": "f5837010"
   },
   "source": [
    "## 2. Basic DataTypes"
   ]
  },
  {
   "cell_type": "code",
   "execution_count": 72,
   "id": "c6493860",
   "metadata": {
    "id": "c6493860",
    "outputId": "29b1a592-3309-4488-8219-2a9ad692a5c7"
   },
   "outputs": [
    {
     "data": {
      "text/plain": [
       "array([ 0.,  1.,  2.,  3.,  4.,  5.,  6.,  7.,  8.,  9., 10., 11., 12.,\n",
       "       13., 14.])"
      ]
     },
     "execution_count": 72,
     "metadata": {},
     "output_type": "execute_result"
    }
   ],
   "source": [
    "#You can explicitly specify which data-type you want:\n",
    "\n",
    "a_float = np.arange(15, dtype='float')\n",
    "a_float"
   ]
  },
  {
   "cell_type": "code",
   "execution_count": 73,
   "id": "3b0e7919",
   "metadata": {
    "id": "3b0e7919",
    "outputId": "8b91e1bc-4f80-4ae9-d2a2-872613b77203"
   },
   "outputs": [
    {
     "name": "stdout",
     "output_type": "stream",
     "text": [
      "[[1 1 1]\n",
      " [1 1 1]\n",
      " [1 1 1]]\n"
     ]
    },
    {
     "data": {
      "text/plain": [
       "dtype('int32')"
      ]
     },
     "execution_count": 73,
     "metadata": {},
     "output_type": "execute_result"
    }
   ],
   "source": [
    "#The default data type is float for zeros and ones function\n",
    "\n",
    "a = np.ones((3, 3), dtype='int')\n",
    "\n",
    "print(a)\n",
    "a.dtype"
   ]
  },
  {
   "cell_type": "code",
   "execution_count": 74,
   "id": "8ca21e72",
   "metadata": {
    "id": "8ca21e72"
   },
   "outputs": [
    {
     "data": {
      "text/plain": [
       "array([[0, 0, 0, 0, 0],\n",
       "       [0, 0, 0, 0, 0],\n",
       "       [0, 0, 0, 0, 0],\n",
       "       [0, 0, 0, 0, 0],\n",
       "       [0, 0, 0, 0, 0]])"
      ]
     },
     "execution_count": 74,
     "metadata": {},
     "output_type": "execute_result"
    }
   ],
   "source": [
    "np_zeros = np.zeros((5,5), dtype='int')\n",
    "np_zeros"
   ]
  },
  {
   "cell_type": "markdown",
   "id": "1db1a146",
   "metadata": {
    "id": "1db1a146"
   },
   "source": [
    "**<font color='blue'>Some Other Datatypes in Numpy Arrays</font>**"
   ]
  },
  {
   "cell_type": "code",
   "execution_count": 75,
   "id": "f6d7e434",
   "metadata": {
    "id": "f6d7e434",
    "outputId": "4a23e040-b0be-42c7-8a98-7add36ea86e7"
   },
   "outputs": [
    {
     "data": {
      "text/plain": [
       "array([1.+2.j, 2.+4.j])"
      ]
     },
     "execution_count": 75,
     "metadata": {},
     "output_type": "execute_result"
    }
   ],
   "source": [
    "d = np.array([1+2j, 2+4j])   #Complex datatype\n",
    "d\n",
    "#print(d.dtype)"
   ]
  },
  {
   "cell_type": "code",
   "execution_count": 76,
   "id": "f590c696",
   "metadata": {
    "id": "f590c696",
    "outputId": "f37dc67e-29e6-4719-ad2e-21099d405ed1"
   },
   "outputs": [
    {
     "data": {
      "text/plain": [
       "array([ True, False,  True, False])"
      ]
     },
     "execution_count": 76,
     "metadata": {},
     "output_type": "execute_result"
    }
   ],
   "source": [
    "b = np.array([True, False, True, False])  #Boolean datatype\n",
    "b\n",
    "#b.dtype"
   ]
  },
  {
   "cell_type": "code",
   "execution_count": 77,
   "id": "0891c4b1",
   "metadata": {
    "id": "0891c4b1",
    "outputId": "4c1320c0-2afe-4153-c513-b475644f88f9"
   },
   "outputs": [
    {
     "data": {
      "text/plain": [
       "array(['Ram', 'Robert', 'Rahim'], dtype='<U6')"
      ]
     },
     "execution_count": 77,
     "metadata": {},
     "output_type": "execute_result"
    }
   ],
   "source": [
    "s = np.array(['Ram', 'Robert', 'Rahim'])\n",
    "s\n",
    "#s.dtype"
   ]
  },
  {
   "cell_type": "markdown",
   "id": "5ec3e8e1",
   "metadata": {
    "id": "5ec3e8e1"
   },
   "source": [
    "## <font color='maroon'>3. Indexing and Slicing</font>"
   ]
  },
  {
   "cell_type": "markdown",
   "id": "06ad11d6",
   "metadata": {
    "id": "06ad11d6"
   },
   "source": [
    "### <font color='blue'>3.1 Indexing</font>"
   ]
  },
  {
   "cell_type": "markdown",
   "id": "eb3223c5",
   "metadata": {
    "id": "eb3223c5"
   },
   "source": [
    "The items of an array can be accessed and assigned to the same way as other **Python sequences (e.g. lists)**"
   ]
  },
  {
   "cell_type": "markdown",
   "id": "47d2fdb2",
   "metadata": {
    "id": "47d2fdb2"
   },
   "source": [
    "<div>\n",
    "<img src=\"attachment:Numpy1.png\" width=\"450\"/>\n",
    "</div>"
   ]
  },
  {
   "cell_type": "code",
   "execution_count": 78,
   "id": "fafa8bdf",
   "metadata": {
    "id": "fafa8bdf"
   },
   "outputs": [],
   "source": [
    "data = np.arange(10, 91, 10).reshape(3,3)"
   ]
  },
  {
   "cell_type": "code",
   "execution_count": 79,
   "id": "cf5af33e",
   "metadata": {
    "id": "cf5af33e",
    "outputId": "85d01960-b433-4caa-ee3e-aca8fa1e4dc1"
   },
   "outputs": [
    {
     "data": {
      "text/plain": [
       "array([[10, 20, 30],\n",
       "       [40, 50, 60],\n",
       "       [70, 80, 90]])"
      ]
     },
     "execution_count": 79,
     "metadata": {},
     "output_type": "execute_result"
    }
   ],
   "source": [
    "data"
   ]
  },
  {
   "cell_type": "code",
   "execution_count": 80,
   "id": "60caab43",
   "metadata": {
    "id": "60caab43"
   },
   "outputs": [],
   "source": [
    "data[1,1] = 15"
   ]
  },
  {
   "cell_type": "code",
   "execution_count": 82,
   "id": "636b1e52",
   "metadata": {
    "id": "636b1e52",
    "outputId": "b5a55bb8-7f75-4cb8-83ac-069062fdfbd1"
   },
   "outputs": [
    {
     "data": {
      "text/plain": [
       "array([[15, 60],\n",
       "       [80, 90]])"
      ]
     },
     "execution_count": 82,
     "metadata": {},
     "output_type": "execute_result"
    }
   ],
   "source": [
    "data[1:3,1:3]"
   ]
  },
  {
   "cell_type": "code",
   "execution_count": 101,
   "id": "31d45a18",
   "metadata": {
    "id": "31d45a18"
   },
   "outputs": [
    {
     "data": {
      "text/plain": [
       "array([[15, 60],\n",
       "       [80, 90]])"
      ]
     },
     "execution_count": 101,
     "metadata": {},
     "output_type": "execute_result"
    }
   ],
   "source": [
    "data[1:3,1:3]"
   ]
  },
  {
   "cell_type": "code",
   "execution_count": null,
   "id": "892b57b4",
   "metadata": {
    "id": "892b57b4"
   },
   "outputs": [],
   "source": []
  },
  {
   "cell_type": "code",
   "execution_count": null,
   "id": "e891de62",
   "metadata": {
    "id": "e891de62"
   },
   "outputs": [],
   "source": []
  },
  {
   "cell_type": "code",
   "execution_count": 103,
   "id": "97add22e",
   "metadata": {
    "id": "97add22e"
   },
   "outputs": [
    {
     "data": {
      "text/plain": [
       "array([[1, 0, 0],\n",
       "       [0, 2, 0],\n",
       "       [0, 0, 3]])"
      ]
     },
     "execution_count": 103,
     "metadata": {},
     "output_type": "execute_result"
    }
   ],
   "source": [
    "# For multidimensional arrays, indexes are tuples of integers:\n",
    "arr_diag = np.diag([1, 2, 3])\n",
    "arr_diag"
   ]
  },
  {
   "cell_type": "code",
   "execution_count": 104,
   "id": "a1156a5d",
   "metadata": {
    "id": "a1156a5d"
   },
   "outputs": [
    {
     "name": "stdout",
     "output_type": "stream",
     "text": [
      "3\n"
     ]
    }
   ],
   "source": [
    "# Print the value at 2,2\n",
    "print(arr_diag[2, 2])"
   ]
  },
  {
   "cell_type": "code",
   "execution_count": 105,
   "id": "182e69f3",
   "metadata": {
    "id": "182e69f3"
   },
   "outputs": [
    {
     "data": {
      "text/plain": [
       "array([[ 1,  0,  0],\n",
       "       [ 0,  2,  0],\n",
       "       [ 0, 33,  3]])"
      ]
     },
     "execution_count": 105,
     "metadata": {},
     "output_type": "execute_result"
    }
   ],
   "source": [
    "arr_diag[2, 1] = 33 #assigning value\n",
    "arr_diag"
   ]
  },
  {
   "cell_type": "markdown",
   "id": "fcc59281",
   "metadata": {
    "id": "fcc59281"
   },
   "source": [
    "### <font color='blue'>3.2 Slicing</font>"
   ]
  },
  {
   "cell_type": "code",
   "execution_count": 106,
   "id": "5a5e9f82",
   "metadata": {
    "id": "5a5e9f82"
   },
   "outputs": [
    {
     "data": {
      "text/plain": [
       "array([0, 1, 2, 3, 4, 5, 6, 7, 8, 9])"
      ]
     },
     "execution_count": 106,
     "metadata": {},
     "output_type": "execute_result"
    }
   ],
   "source": [
    "#we can also combine assignment and slicing:\n",
    "\n",
    "arr_sl = np.arange(10)\n",
    "arr_sl"
   ]
  },
  {
   "cell_type": "code",
   "execution_count": 107,
   "id": "6547d79f",
   "metadata": {
    "id": "6547d79f"
   },
   "outputs": [
    {
     "data": {
      "text/plain": [
       "array([15, 15, 15, 15, 15, 15, 15, 16, 16, 16])"
      ]
     },
     "execution_count": 107,
     "metadata": {},
     "output_type": "execute_result"
    }
   ],
   "source": [
    "arr_sl[:7] = 15\n",
    "arr_sl[7:] = 16\n",
    "arr_sl"
   ]
  },
  {
   "cell_type": "code",
   "execution_count": 108,
   "id": "162f2f48",
   "metadata": {
    "id": "162f2f48"
   },
   "outputs": [
    {
     "data": {
      "text/plain": [
       "array([[1, 2, 3],\n",
       "       [4, 5, 6],\n",
       "       [7, 8, 9]])"
      ]
     },
     "execution_count": 108,
     "metadata": {},
     "output_type": "execute_result"
    }
   ],
   "source": [
    "arr_new = np.arange(1,10).reshape(3,3)\n",
    "arr_new"
   ]
  },
  {
   "cell_type": "code",
   "execution_count": 113,
   "id": "3ba28e28",
   "metadata": {
    "id": "3ba28e28"
   },
   "outputs": [
    {
     "data": {
      "text/plain": [
       "array([[ 1,  4,  7],\n",
       "       [10, 13, 16],\n",
       "       [19, 22, 25]])"
      ]
     },
     "execution_count": 113,
     "metadata": {},
     "output_type": "execute_result"
    }
   ],
   "source": [
    "arr2 = np.arange(1,26,3).reshape(3,3)\n",
    "arr2"
   ]
  },
  {
   "cell_type": "code",
   "execution_count": 114,
   "id": "46aa196e",
   "metadata": {
    "id": "46aa196e"
   },
   "outputs": [
    {
     "data": {
      "text/plain": [
       "array([[ 4,  7],\n",
       "       [13, 16]])"
      ]
     },
     "execution_count": 114,
     "metadata": {},
     "output_type": "execute_result"
    }
   ],
   "source": [
    "arr2[0:2,1:]"
   ]
  },
  {
   "cell_type": "code",
   "execution_count": 115,
   "id": "5b13a4c0",
   "metadata": {
    "id": "5b13a4c0"
   },
   "outputs": [
    {
     "data": {
      "text/plain": [
       "array([[13, 16],\n",
       "       [22, 25]])"
      ]
     },
     "execution_count": 115,
     "metadata": {},
     "output_type": "execute_result"
    }
   ],
   "source": [
    "arr2[1:, 1:] "
   ]
  },
  {
   "cell_type": "markdown",
   "id": "cd0ebaf9",
   "metadata": {
    "id": "cd0ebaf9"
   },
   "source": [
    "## <font color='maroon'>4. Numpy Numerical Operations</font>"
   ]
  },
  {
   "cell_type": "markdown",
   "id": "d978f302",
   "metadata": {
    "id": "d978f302"
   },
   "source": [
    "### <font color='blue'>Basic Operations</font>"
   ]
  },
  {
   "cell_type": "code",
   "execution_count": 116,
   "id": "badac50b",
   "metadata": {
    "id": "badac50b"
   },
   "outputs": [
    {
     "data": {
      "text/plain": [
       "array([13.5, 14.5, 15.5, 16.5])"
      ]
     },
     "execution_count": 116,
     "metadata": {},
     "output_type": "execute_result"
    }
   ],
   "source": [
    "scalar = np.array([1, 2, 3, 4])\n",
    "scalar + 12.5"
   ]
  },
  {
   "cell_type": "markdown",
   "id": "c8d996f4",
   "metadata": {
    "id": "c8d996f4"
   },
   "source": [
    "All Arithmetic Operations happen Element-wise"
   ]
  },
  {
   "cell_type": "code",
   "execution_count": 117,
   "id": "27f23e97",
   "metadata": {
    "id": "27f23e97"
   },
   "outputs": [
    {
     "data": {
      "text/plain": [
       "array([4., 4., 4., 4., 4.])"
      ]
     },
     "execution_count": 117,
     "metadata": {},
     "output_type": "execute_result"
    }
   ],
   "source": [
    "arr_ones = np.ones(5) * 4\n",
    "arr_ones"
   ]
  },
  {
   "cell_type": "code",
   "execution_count": 118,
   "id": "e75eca0e",
   "metadata": {
    "id": "e75eca0e"
   },
   "outputs": [],
   "source": [
    "# Array Multiplications\n",
    "arr1 = np.arange(1,10,1).reshape(3,3)\n",
    "arr2 = np.arange(10,19,1).reshape(3,3)"
   ]
  },
  {
   "cell_type": "code",
   "execution_count": 119,
   "id": "6e7748f0",
   "metadata": {
    "id": "6e7748f0"
   },
   "outputs": [
    {
     "name": "stdout",
     "output_type": "stream",
     "text": [
      "[[ 10  22  36]\n",
      " [ 52  70  90]\n",
      " [112 136 162]]\n"
     ]
    }
   ],
   "source": [
    "print(arr1 * arr2) # Multiply the elements of both matrices"
   ]
  },
  {
   "cell_type": "code",
   "execution_count": 120,
   "id": "7a45e1b8",
   "metadata": {
    "id": "7a45e1b8"
   },
   "outputs": [
    {
     "data": {
      "text/plain": [
       "array([[ 84,  90,  96],\n",
       "       [201, 216, 231],\n",
       "       [318, 342, 366]])"
      ]
     },
     "execution_count": 120,
     "metadata": {},
     "output_type": "execute_result"
    }
   ],
   "source": [
    "arr1.dot(arr2) # Matrix multiplication "
   ]
  },
  {
   "cell_type": "markdown",
   "id": "1fcdab75",
   "metadata": {
    "id": "1fcdab75"
   },
   "source": [
    "### <font color='blue'>Comparisons</font>"
   ]
  },
  {
   "cell_type": "code",
   "execution_count": 121,
   "id": "8d60e7bd",
   "metadata": {
    "id": "8d60e7bd"
   },
   "outputs": [
    {
     "data": {
      "text/plain": [
       "array([ True, False, False,  True])"
      ]
     },
     "execution_count": 121,
     "metadata": {},
     "output_type": "execute_result"
    }
   ],
   "source": [
    "# Element-wise comparisions\n",
    "a = np.array([1, 2, 3, 4])\n",
    "b = np.array([5, 2, 2, 4])\n",
    "c = np.array([1, 3, 2, 4])\n",
    "\n",
    "np.equal(a,c)"
   ]
  },
  {
   "cell_type": "code",
   "execution_count": 122,
   "id": "27e6dca0",
   "metadata": {
    "id": "27e6dca0"
   },
   "outputs": [
    {
     "data": {
      "text/plain": [
       "True"
      ]
     },
     "execution_count": 122,
     "metadata": {},
     "output_type": "execute_result"
    }
   ],
   "source": [
    "# Array-wise comparisions\n",
    "a = np.array([1, 2, 3, 4])\n",
    "b = np.array([5, 2, 2, 4])\n",
    "c = np.array([1, 2, 3, 4])\n",
    "\n",
    "np.array_equal(a,c)"
   ]
  },
  {
   "cell_type": "markdown",
   "id": "eda6293a",
   "metadata": {
    "id": "eda6293a"
   },
   "source": [
    "#### Array Mathematics"
   ]
  },
  {
   "cell_type": "code",
   "execution_count": 123,
   "id": "63c8a03f",
   "metadata": {
    "id": "63c8a03f",
    "outputId": "bd6f3647-e972-4f07-a176-97c79608ce91"
   },
   "outputs": [
    {
     "data": {
      "text/plain": [
       "[12, 13, 14, 15, 13, 19, 20, 12, 13, 14, 15, 13, 19, 20]"
      ]
     },
     "execution_count": 123,
     "metadata": {},
     "output_type": "execute_result"
    }
   ],
   "source": [
    "list1 = [12,13,14,15,13,19,20]\n",
    "\n",
    "list1 * 2"
   ]
  },
  {
   "cell_type": "code",
   "execution_count": 124,
   "id": "d8bcbf22",
   "metadata": {
    "id": "d8bcbf22"
   },
   "outputs": [],
   "source": [
    "arr1 = np.array(list1)"
   ]
  },
  {
   "cell_type": "code",
   "execution_count": 125,
   "id": "8e902918",
   "metadata": {
    "id": "8e902918",
    "outputId": "fa8bb125-c690-4172-ec89-564df6952f14"
   },
   "outputs": [
    {
     "data": {
      "text/plain": [
       "array([24, 26, 28, 30, 26, 38, 40])"
      ]
     },
     "execution_count": 125,
     "metadata": {},
     "output_type": "execute_result"
    }
   ],
   "source": [
    "arr1 * 2"
   ]
  },
  {
   "cell_type": "code",
   "execution_count": null,
   "id": "933d0ffc",
   "metadata": {
    "id": "933d0ffc"
   },
   "outputs": [],
   "source": []
  },
  {
   "cell_type": "code",
   "execution_count": 126,
   "id": "16800b4e",
   "metadata": {
    "id": "16800b4e"
   },
   "outputs": [],
   "source": [
    "arr1 = np.arange(10,91,10).reshape(3,3)\n",
    "arr2 = np.arange(20,101,10).reshape(3,3)"
   ]
  },
  {
   "cell_type": "code",
   "execution_count": 127,
   "id": "f8f28b1a",
   "metadata": {
    "id": "f8f28b1a",
    "outputId": "55685d4e-dfd6-49bc-9a77-e9e674dda2fb"
   },
   "outputs": [
    {
     "data": {
      "text/plain": [
       "array([[10, 20, 30],\n",
       "       [40, 50, 60],\n",
       "       [70, 80, 90]])"
      ]
     },
     "execution_count": 127,
     "metadata": {},
     "output_type": "execute_result"
    }
   ],
   "source": [
    "arr1"
   ]
  },
  {
   "cell_type": "code",
   "execution_count": 128,
   "id": "e32335c0",
   "metadata": {
    "id": "e32335c0",
    "outputId": "f40cf1cc-21c0-44bd-dc93-80ed44ba385b"
   },
   "outputs": [
    {
     "data": {
      "text/plain": [
       "array([[ 20,  30,  40],\n",
       "       [ 50,  60,  70],\n",
       "       [ 80,  90, 100]])"
      ]
     },
     "execution_count": 128,
     "metadata": {},
     "output_type": "execute_result"
    }
   ],
   "source": [
    "arr2"
   ]
  },
  {
   "cell_type": "code",
   "execution_count": 129,
   "id": "14511572",
   "metadata": {
    "id": "14511572",
    "outputId": "6cf3d39c-5ad3-4254-f6d9-9d21452cbc61"
   },
   "outputs": [
    {
     "data": {
      "text/plain": [
       "array([[ 200,  600, 1200],\n",
       "       [2000, 3000, 4200],\n",
       "       [5600, 7200, 9000]])"
      ]
     },
     "execution_count": 129,
     "metadata": {},
     "output_type": "execute_result"
    }
   ],
   "source": [
    "arr1 * arr2"
   ]
  },
  {
   "cell_type": "code",
   "execution_count": 130,
   "id": "3ea1d5dd",
   "metadata": {
    "id": "3ea1d5dd",
    "outputId": "d2655085-bda6-4510-96aa-fc5e5d0f3fbd"
   },
   "outputs": [
    {
     "data": {
      "text/plain": [
       "array([[ 200,  600, 1200],\n",
       "       [2000, 3000, 4200],\n",
       "       [5600, 7200, 9000]])"
      ]
     },
     "execution_count": 130,
     "metadata": {},
     "output_type": "execute_result"
    }
   ],
   "source": [
    "np.multiply(arr1, arr2)"
   ]
  },
  {
   "cell_type": "code",
   "execution_count": 131,
   "id": "769d6590",
   "metadata": {
    "id": "769d6590",
    "outputId": "cacd8f78-610e-4565-be4c-1edaff31fd94"
   },
   "outputs": [
    {
     "data": {
      "text/plain": [
       "array([[ 30,  50,  70],\n",
       "       [ 90, 110, 130],\n",
       "       [150, 170, 190]])"
      ]
     },
     "execution_count": 131,
     "metadata": {},
     "output_type": "execute_result"
    }
   ],
   "source": [
    "arr1 + arr2"
   ]
  },
  {
   "cell_type": "code",
   "execution_count": 132,
   "id": "18c694d7",
   "metadata": {
    "id": "18c694d7",
    "outputId": "c8e32787-7558-458a-ff55-61de96a46ac7"
   },
   "outputs": [
    {
     "data": {
      "text/plain": [
       "array([[ 30,  50,  70],\n",
       "       [ 90, 110, 130],\n",
       "       [150, 170, 190]])"
      ]
     },
     "execution_count": 132,
     "metadata": {},
     "output_type": "execute_result"
    }
   ],
   "source": [
    "np.add(arr1, arr2)"
   ]
  },
  {
   "cell_type": "code",
   "execution_count": 133,
   "id": "790339bc",
   "metadata": {
    "id": "790339bc",
    "outputId": "e39b25a8-8248-4af2-8ea0-622001a47c20"
   },
   "outputs": [
    {
     "data": {
      "text/plain": [
       "array([[ 20,  30,  40],\n",
       "       [ 50,  60,  70],\n",
       "       [ 80,  90, 100]])"
      ]
     },
     "execution_count": 133,
     "metadata": {},
     "output_type": "execute_result"
    }
   ],
   "source": [
    "arr1 + 10"
   ]
  },
  {
   "cell_type": "code",
   "execution_count": 134,
   "id": "0bd49188",
   "metadata": {
    "id": "0bd49188",
    "outputId": "f7b54a7e-0fbf-4250-ea42-c1ecf31dbbe1"
   },
   "outputs": [
    {
     "data": {
      "text/plain": [
       "array([[-10, -10, -10],\n",
       "       [-10, -10, -10],\n",
       "       [-10, -10, -10]])"
      ]
     },
     "execution_count": 134,
     "metadata": {},
     "output_type": "execute_result"
    }
   ],
   "source": [
    "arr1 - arr2"
   ]
  },
  {
   "cell_type": "code",
   "execution_count": 135,
   "id": "5032fc5c",
   "metadata": {
    "id": "5032fc5c"
   },
   "outputs": [
    {
     "data": {
      "text/plain": [
       "array([[-10, -10, -10],\n",
       "       [-10, -10, -10],\n",
       "       [-10, -10, -10]])"
      ]
     },
     "execution_count": 135,
     "metadata": {},
     "output_type": "execute_result"
    }
   ],
   "source": [
    "np.subtract(arr1, arr2)"
   ]
  },
  {
   "cell_type": "code",
   "execution_count": 136,
   "id": "136dfcfb",
   "metadata": {
    "id": "136dfcfb",
    "outputId": "6128d4d3-8868-4937-83f2-9d0505752b19"
   },
   "outputs": [
    {
     "data": {
      "text/plain": [
       "array([[ 2.,  4.,  6.],\n",
       "       [ 8., 10., 12.],\n",
       "       [14., 16., 18.]])"
      ]
     },
     "execution_count": 136,
     "metadata": {},
     "output_type": "execute_result"
    }
   ],
   "source": [
    "arr1/5"
   ]
  },
  {
   "cell_type": "code",
   "execution_count": 137,
   "id": "99fefe8e",
   "metadata": {
    "id": "99fefe8e"
   },
   "outputs": [
    {
     "data": {
      "text/plain": [
       "array([[ 2.,  4.,  6.],\n",
       "       [ 8., 10., 12.],\n",
       "       [14., 16., 18.]])"
      ]
     },
     "execution_count": 137,
     "metadata": {},
     "output_type": "execute_result"
    }
   ],
   "source": [
    "np.divide(arr1, 5)"
   ]
  },
  {
   "cell_type": "code",
   "execution_count": null,
   "id": "30015cf2",
   "metadata": {
    "id": "30015cf2"
   },
   "outputs": [],
   "source": []
  },
  {
   "cell_type": "code",
   "execution_count": null,
   "id": "0fe5ce83",
   "metadata": {
    "id": "0fe5ce83"
   },
   "outputs": [],
   "source": []
  },
  {
   "cell_type": "code",
   "execution_count": 140,
   "id": "cb672a41",
   "metadata": {
    "id": "cb672a41"
   },
   "outputs": [
    {
     "data": {
      "text/plain": [
       "array([[ 30,  50,  70],\n",
       "       [ 90, 110, 130],\n",
       "       [150, 170, 190]])"
      ]
     },
     "execution_count": 140,
     "metadata": {},
     "output_type": "execute_result"
    }
   ],
   "source": [
    "np.add(arr1,arr2)"
   ]
  },
  {
   "cell_type": "code",
   "execution_count": 141,
   "id": "356164e8",
   "metadata": {
    "id": "356164e8"
   },
   "outputs": [
    {
     "data": {
      "text/plain": [
       "array([[-10, -10, -10],\n",
       "       [-10, -10, -10],\n",
       "       [-10, -10, -10]])"
      ]
     },
     "execution_count": 141,
     "metadata": {},
     "output_type": "execute_result"
    }
   ],
   "source": [
    "np.subtract(arr1,arr2)"
   ]
  },
  {
   "cell_type": "code",
   "execution_count": 142,
   "id": "d5e57763",
   "metadata": {
    "id": "d5e57763"
   },
   "outputs": [
    {
     "data": {
      "text/plain": [
       "array([[ 200,  600, 1200],\n",
       "       [2000, 3000, 4200],\n",
       "       [5600, 7200, 9000]])"
      ]
     },
     "execution_count": 142,
     "metadata": {},
     "output_type": "execute_result"
    }
   ],
   "source": [
    "np.multiply(arr1, arr2)"
   ]
  },
  {
   "cell_type": "code",
   "execution_count": 143,
   "id": "bd3072ce",
   "metadata": {
    "id": "bd3072ce"
   },
   "outputs": [
    {
     "data": {
      "text/plain": [
       "array([[0.5       , 0.66666667, 0.75      ],\n",
       "       [0.8       , 0.83333333, 0.85714286],\n",
       "       [0.875     , 0.88888889, 0.9       ]])"
      ]
     },
     "execution_count": 143,
     "metadata": {},
     "output_type": "execute_result"
    }
   ],
   "source": [
    "np.divide(arr1, arr2)"
   ]
  },
  {
   "cell_type": "code",
   "execution_count": 144,
   "id": "85f68ad5",
   "metadata": {
    "id": "85f68ad5"
   },
   "outputs": [
    {
     "data": {
      "text/plain": [
       "array([[2.20264658e+04, 4.85165195e+08, 1.06864746e+13],\n",
       "       [2.35385267e+17, 5.18470553e+21, 1.14200739e+26],\n",
       "       [2.51543867e+30, 5.54062238e+34, 1.22040329e+39]])"
      ]
     },
     "execution_count": 144,
     "metadata": {},
     "output_type": "execute_result"
    }
   ],
   "source": [
    "np.exp(arr1) # e**20"
   ]
  },
  {
   "cell_type": "markdown",
   "id": "5214fbb0",
   "metadata": {
    "id": "5214fbb0"
   },
   "source": [
    "**Calculating Min, Mean, Median**"
   ]
  },
  {
   "cell_type": "code",
   "execution_count": 145,
   "id": "a34f10a5",
   "metadata": {
    "id": "a34f10a5"
   },
   "outputs": [],
   "source": [
    "data = np.random.randint(10,50, size = (10,8))"
   ]
  },
  {
   "cell_type": "code",
   "execution_count": 147,
   "id": "0c502fe7",
   "metadata": {
    "id": "0c502fe7",
    "outputId": "84ecd797-8e63-4167-cc0d-bae06d7489fb"
   },
   "outputs": [
    {
     "data": {
      "text/plain": [
       "array([[27, 25, 44, 44, 43, 35, 39, 19],\n",
       "       [39, 10, 45, 19, 40, 12, 30, 25],\n",
       "       [41, 45, 35, 28, 24, 35, 31, 28],\n",
       "       [44, 37, 20, 35, 31, 48, 44, 27],\n",
       "       [35, 38, 27, 35, 32, 39, 42, 37],\n",
       "       [12, 28, 48, 24, 18, 14, 40, 28],\n",
       "       [30, 40, 24, 23, 15, 14, 49, 13],\n",
       "       [23, 39, 40, 42, 42, 33, 36, 31],\n",
       "       [27, 45, 21, 42, 12, 30, 15, 10],\n",
       "       [17, 41, 18, 41, 35, 22, 13, 19]])"
      ]
     },
     "execution_count": 147,
     "metadata": {},
     "output_type": "execute_result"
    }
   ],
   "source": [
    "data"
   ]
  },
  {
   "cell_type": "code",
   "execution_count": 148,
   "id": "b96edcfa",
   "metadata": {
    "id": "b96edcfa",
    "outputId": "49ab3da2-519b-48eb-a64e-cea055903b80"
   },
   "outputs": [
    {
     "data": {
      "text/plain": [
       "31.0"
      ]
     },
     "execution_count": 148,
     "metadata": {},
     "output_type": "execute_result"
    }
   ],
   "source": [
    "np.mean(data[:2])"
   ]
  },
  {
   "cell_type": "code",
   "execution_count": 149,
   "id": "aa592ecd",
   "metadata": {
    "id": "aa592ecd",
    "outputId": "a528e736-7eae-4897-f220-f5187a340480"
   },
   "outputs": [
    {
     "data": {
      "text/plain": [
       "array([29.5, 34.8, 32.2, 33.3, 29.2, 28.2, 33.9, 23.7])"
      ]
     },
     "execution_count": 149,
     "metadata": {},
     "output_type": "execute_result"
    }
   ],
   "source": [
    "np.mean(data, axis = 0)"
   ]
  },
  {
   "cell_type": "code",
   "execution_count": 150,
   "id": "9591dbcf",
   "metadata": {
    "id": "9591dbcf",
    "outputId": "89767d83-acd3-47eb-b7f2-89c47f1e3e77"
   },
   "outputs": [
    {
     "data": {
      "text/plain": [
       "array([12, 10, 18, 19, 12, 12, 13, 10])"
      ]
     },
     "execution_count": 150,
     "metadata": {},
     "output_type": "execute_result"
    }
   ],
   "source": [
    "np.min(data, axis = 0)"
   ]
  },
  {
   "cell_type": "code",
   "execution_count": null,
   "id": "3a110a0d",
   "metadata": {
    "id": "3a110a0d",
    "outputId": "f30d879d-7973-4ff5-e2fe-3828f98ad195"
   },
   "outputs": [
    {
     "data": {
      "text/plain": [
       "array([39, 40, 48, 49, 39, 41, 46, 48])"
      ]
     },
     "execution_count": 103,
     "metadata": {},
     "output_type": "execute_result"
    }
   ],
   "source": [
    "np.max(data, axis = 0)"
   ]
  },
  {
   "cell_type": "code",
   "execution_count": null,
   "id": "0a084594",
   "metadata": {
    "id": "0a084594",
    "outputId": "32ae3635-f5e1-424f-bb01-b71c6db54fc5"
   },
   "outputs": [
    {
     "data": {
      "text/plain": [
       "array([[14, 12, 21, 10, 13, 10, 11, 12],\n",
       "       [16, 16, 25, 20, 16, 12, 22, 12],\n",
       "       [18, 17, 28, 26, 17, 23, 28, 13],\n",
       "       [25, 21, 31, 29, 18, 25, 28, 14],\n",
       "       [27, 22, 32, 30, 23, 25, 30, 16],\n",
       "       [29, 27, 34, 31, 24, 31, 31, 16],\n",
       "       [31, 29, 36, 42, 25, 33, 43, 24],\n",
       "       [34, 32, 47, 46, 27, 39, 43, 28],\n",
       "       [35, 35, 47, 47, 28, 41, 44, 39],\n",
       "       [39, 40, 48, 49, 39, 41, 46, 48]])"
      ]
     },
     "execution_count": 104,
     "metadata": {},
     "output_type": "execute_result"
    }
   ],
   "source": [
    "np.sort(data, axis = 0)"
   ]
  },
  {
   "cell_type": "code",
   "execution_count": null,
   "id": "a3207dbd",
   "metadata": {
    "id": "a3207dbd"
   },
   "outputs": [],
   "source": []
  },
  {
   "cell_type": "code",
   "execution_count": null,
   "id": "b9f5f31d",
   "metadata": {
    "id": "b9f5f31d"
   },
   "outputs": [],
   "source": []
  },
  {
   "cell_type": "code",
   "execution_count": null,
   "id": "81551bab",
   "metadata": {
    "id": "81551bab"
   },
   "outputs": [],
   "source": []
  },
  {
   "cell_type": "code",
   "execution_count": null,
   "id": "dcfc5df7",
   "metadata": {
    "id": "dcfc5df7"
   },
   "outputs": [],
   "source": [
    "arr1 = np.arange(1,10).reshape(3,3)\n",
    "arr2 = np.arange(10,19).reshape(3,3)"
   ]
  },
  {
   "cell_type": "code",
   "execution_count": null,
   "id": "1ca42ee7",
   "metadata": {
    "id": "1ca42ee7"
   },
   "outputs": [],
   "source": [
    "a = np.array([1, 2, 3, 4])\n",
    "b = np.array([5, 2, 2, 4, 6])\n",
    "c = np.array([1, 2, 3, 4])"
   ]
  },
  {
   "cell_type": "code",
   "execution_count": null,
   "id": "2a10adcc",
   "metadata": {
    "id": "2a10adcc"
   },
   "outputs": [],
   "source": [
    "a.mean()"
   ]
  },
  {
   "cell_type": "code",
   "execution_count": null,
   "id": "b3b25b45",
   "metadata": {
    "id": "b3b25b45"
   },
   "outputs": [],
   "source": [
    "np.median(b)"
   ]
  },
  {
   "cell_type": "code",
   "execution_count": null,
   "id": "f719384b",
   "metadata": {
    "id": "f719384b"
   },
   "outputs": [],
   "source": [
    "np.min(c)"
   ]
  },
  {
   "cell_type": "code",
   "execution_count": null,
   "id": "07f59b53",
   "metadata": {
    "id": "07f59b53"
   },
   "outputs": [],
   "source": [
    "np.max(a)"
   ]
  },
  {
   "cell_type": "code",
   "execution_count": null,
   "id": "85536155",
   "metadata": {
    "id": "85536155"
   },
   "outputs": [],
   "source": [
    "np.mean(arr_1, axis=1)"
   ]
  },
  {
   "cell_type": "markdown",
   "id": "06fa2985",
   "metadata": {
    "id": "06fa2985"
   },
   "source": [
    "### <font color='maroon'>Array Manipulation</font>"
   ]
  },
  {
   "cell_type": "markdown",
   "id": "91da0c06",
   "metadata": {
    "id": "91da0c06"
   },
   "source": [
    "We have some ways to manipulate the arrays, these are - \n",
    "\n",
    "- numpy.concatenate(a,b)\n",
    "- numpy.vstack(a,b)\n",
    "- numpy.hstack(a,b)\n",
    "- numpy.column_stack()\n",
    "- numpy.hsplit()\n",
    "\n",
    "Let's see one by one how they work"
   ]
  },
  {
   "cell_type": "markdown",
   "id": "f8edbb52",
   "metadata": {
    "id": "f8edbb52"
   },
   "source": [
    "![Screenshot%202022-05-27%20000206.png](attachment:Screenshot%202022-05-27%20000206.png)"
   ]
  },
  {
   "cell_type": "markdown",
   "id": "47efc247",
   "metadata": {
    "id": "47efc247"
   },
   "source": [
    "![Screenshot%202022-05-27%20000234.png](attachment:Screenshot%202022-05-27%20000234.png)"
   ]
  },
  {
   "cell_type": "code",
   "execution_count": 151,
   "id": "2773165d",
   "metadata": {
    "executionInfo": {
     "elapsed": 406,
     "status": "ok",
     "timestamp": 1685454354024,
     "user": {
      "displayName": "Sunil Javadi",
      "userId": "04099595876230847094"
     },
     "user_tz": -330
    },
    "id": "2773165d"
   },
   "outputs": [],
   "source": [
    "import numpy as np"
   ]
  },
  {
   "cell_type": "code",
   "execution_count": 152,
   "id": "e8b1ef76",
   "metadata": {
    "id": "e8b1ef76"
   },
   "outputs": [],
   "source": [
    "arr1 = np.arange(25).reshape(5,5)\n",
    "arr2 = np.arange(25).reshape(5,5)"
   ]
  },
  {
   "cell_type": "code",
   "execution_count": 153,
   "id": "3c8c8494",
   "metadata": {
    "id": "3c8c8494",
    "outputId": "10e5797c-b5c3-4a3c-f902-6fef1008be5d"
   },
   "outputs": [
    {
     "data": {
      "text/plain": [
       "array([[ 0,  1,  2,  3,  4],\n",
       "       [ 5,  6,  7,  8,  9],\n",
       "       [10, 11, 12, 13, 14],\n",
       "       [15, 16, 17, 18, 19],\n",
       "       [20, 21, 22, 23, 24]])"
      ]
     },
     "execution_count": 153,
     "metadata": {},
     "output_type": "execute_result"
    }
   ],
   "source": [
    "arr1"
   ]
  },
  {
   "cell_type": "code",
   "execution_count": 154,
   "id": "4f8e3f0b",
   "metadata": {
    "id": "4f8e3f0b",
    "outputId": "717cbab4-818a-441c-882b-8b22500a9225"
   },
   "outputs": [
    {
     "data": {
      "text/plain": [
       "array([[ 0,  1,  2,  3,  4],\n",
       "       [ 5,  6,  7,  8,  9],\n",
       "       [10, 11, 12, 13, 14],\n",
       "       [15, 16, 17, 18, 19],\n",
       "       [20, 21, 22, 23, 24]])"
      ]
     },
     "execution_count": 154,
     "metadata": {},
     "output_type": "execute_result"
    }
   ],
   "source": [
    "arr2"
   ]
  },
  {
   "cell_type": "code",
   "execution_count": 157,
   "id": "3c0a4c63",
   "metadata": {
    "id": "3c0a4c63",
    "outputId": "6e6efa79-0396-4a95-94ef-103630434e19"
   },
   "outputs": [
    {
     "data": {
      "text/plain": [
       "array([[ 0,  1,  2,  3,  4,  0,  1,  2,  3,  4],\n",
       "       [ 5,  6,  7,  8,  9,  5,  6,  7,  8,  9],\n",
       "       [10, 11, 12, 13, 14, 10, 11, 12, 13, 14],\n",
       "       [15, 16, 17, 18, 19, 15, 16, 17, 18, 19],\n",
       "       [20, 21, 22, 23, 24, 20, 21, 22, 23, 24]])"
      ]
     },
     "execution_count": 157,
     "metadata": {},
     "output_type": "execute_result"
    }
   ],
   "source": [
    "new_array = np.hstack((arr1, arr2))\n",
    "new_array"
   ]
  },
  {
   "cell_type": "code",
   "execution_count": null,
   "id": "098b5b0a",
   "metadata": {
    "id": "098b5b0a",
    "outputId": "2dc05203-3dc2-45c2-fc18-413dd900192f"
   },
   "outputs": [
    {
     "data": {
      "text/plain": [
       "array([[ 0,  1,  2,  3,  4],\n",
       "       [ 5,  6,  7,  8,  9],\n",
       "       [10, 11, 12, 13, 14],\n",
       "       [15, 16, 17, 18, 19],\n",
       "       [20, 21, 22, 23, 24],\n",
       "       [ 0,  1,  2,  3,  4],\n",
       "       [ 5,  6,  7,  8,  9],\n",
       "       [10, 11, 12, 13, 14],\n",
       "       [15, 16, 17, 18, 19],\n",
       "       [20, 21, 22, 23, 24]])"
      ]
     },
     "execution_count": 6,
     "metadata": {},
     "output_type": "execute_result"
    }
   ],
   "source": [
    "np.vstack((arr1, arr2))"
   ]
  },
  {
   "cell_type": "code",
   "execution_count": null,
   "id": "a6184c1c",
   "metadata": {
    "id": "a6184c1c",
    "outputId": "0147e102-65d0-4d7c-b527-8268b82ad828"
   },
   "outputs": [
    {
     "data": {
      "text/plain": [
       "array([[ 0,  1,  2,  3,  4,  0,  1,  2,  3,  4],\n",
       "       [ 5,  6,  7,  8,  9,  5,  6,  7,  8,  9],\n",
       "       [10, 11, 12, 13, 14, 10, 11, 12, 13, 14],\n",
       "       [15, 16, 17, 18, 19, 15, 16, 17, 18, 19],\n",
       "       [20, 21, 22, 23, 24, 20, 21, 22, 23, 24]])"
      ]
     },
     "execution_count": 12,
     "metadata": {},
     "output_type": "execute_result"
    }
   ],
   "source": [
    "np.concatenate((arr1, arr2), axis = 1)"
   ]
  },
  {
   "cell_type": "code",
   "execution_count": null,
   "id": "12c7755f",
   "metadata": {
    "id": "12c7755f"
   },
   "outputs": [],
   "source": [
    "big_array = np.arange(108).reshape(12, 9)"
   ]
  },
  {
   "cell_type": "code",
   "execution_count": null,
   "id": "151cf9a9",
   "metadata": {
    "id": "151cf9a9",
    "outputId": "6132cd5d-8d10-435a-ab3c-cd3f6bfe527b"
   },
   "outputs": [
    {
     "data": {
      "text/plain": [
       "array([[  0,   1,   2,   3,   4,   5,   6,   7,   8],\n",
       "       [  9,  10,  11,  12,  13,  14,  15,  16,  17],\n",
       "       [ 18,  19,  20,  21,  22,  23,  24,  25,  26],\n",
       "       [ 27,  28,  29,  30,  31,  32,  33,  34,  35],\n",
       "       [ 36,  37,  38,  39,  40,  41,  42,  43,  44],\n",
       "       [ 45,  46,  47,  48,  49,  50,  51,  52,  53],\n",
       "       [ 54,  55,  56,  57,  58,  59,  60,  61,  62],\n",
       "       [ 63,  64,  65,  66,  67,  68,  69,  70,  71],\n",
       "       [ 72,  73,  74,  75,  76,  77,  78,  79,  80],\n",
       "       [ 81,  82,  83,  84,  85,  86,  87,  88,  89],\n",
       "       [ 90,  91,  92,  93,  94,  95,  96,  97,  98],\n",
       "       [ 99, 100, 101, 102, 103, 104, 105, 106, 107]])"
      ]
     },
     "execution_count": 26,
     "metadata": {},
     "output_type": "execute_result"
    }
   ],
   "source": [
    "big_array"
   ]
  },
  {
   "cell_type": "code",
   "execution_count": null,
   "id": "46284b49",
   "metadata": {
    "id": "46284b49",
    "outputId": "6b697d22-20fd-488f-aac6-2fb029354e50"
   },
   "outputs": [
    {
     "data": {
      "text/plain": [
       "[array([[  0,   1,   2],\n",
       "        [  9,  10,  11],\n",
       "        [ 18,  19,  20],\n",
       "        [ 27,  28,  29],\n",
       "        [ 36,  37,  38],\n",
       "        [ 45,  46,  47],\n",
       "        [ 54,  55,  56],\n",
       "        [ 63,  64,  65],\n",
       "        [ 72,  73,  74],\n",
       "        [ 81,  82,  83],\n",
       "        [ 90,  91,  92],\n",
       "        [ 99, 100, 101]]),\n",
       " array([[  3,   4,   5],\n",
       "        [ 12,  13,  14],\n",
       "        [ 21,  22,  23],\n",
       "        [ 30,  31,  32],\n",
       "        [ 39,  40,  41],\n",
       "        [ 48,  49,  50],\n",
       "        [ 57,  58,  59],\n",
       "        [ 66,  67,  68],\n",
       "        [ 75,  76,  77],\n",
       "        [ 84,  85,  86],\n",
       "        [ 93,  94,  95],\n",
       "        [102, 103, 104]]),\n",
       " array([[  6,   7,   8],\n",
       "        [ 15,  16,  17],\n",
       "        [ 24,  25,  26],\n",
       "        [ 33,  34,  35],\n",
       "        [ 42,  43,  44],\n",
       "        [ 51,  52,  53],\n",
       "        [ 60,  61,  62],\n",
       "        [ 69,  70,  71],\n",
       "        [ 78,  79,  80],\n",
       "        [ 87,  88,  89],\n",
       "        [ 96,  97,  98],\n",
       "        [105, 106, 107]])]"
      ]
     },
     "execution_count": 27,
     "metadata": {},
     "output_type": "execute_result"
    }
   ],
   "source": [
    "np.hsplit(big_array, 3)"
   ]
  },
  {
   "cell_type": "code",
   "execution_count": null,
   "id": "37398ea0",
   "metadata": {
    "id": "37398ea0",
    "outputId": "1c9c2d6c-f9a8-4f5a-c039-7d106eebd7fc"
   },
   "outputs": [
    {
     "data": {
      "text/plain": [
       "array([[  5,   6,   7,   8,   9],\n",
       "       [ 15,  16,  17,  18,  19],\n",
       "       [ 25,  26,  27,  28,  29],\n",
       "       [ 35,  36,  37,  38,  39],\n",
       "       [ 45,  46,  47,  48,  49],\n",
       "       [ 55,  56,  57,  58,  59],\n",
       "       [ 65,  66,  67,  68,  69],\n",
       "       [ 75,  76,  77,  78,  79],\n",
       "       [ 85,  86,  87,  88,  89],\n",
       "       [ 95,  96,  97,  98,  99],\n",
       "       [105, 106, 107, 108, 109],\n",
       "       [115, 116, 117, 118, 119]])"
      ]
     },
     "execution_count": 21,
     "metadata": {},
     "output_type": "execute_result"
    }
   ],
   "source": [
    "arr11"
   ]
  },
  {
   "cell_type": "code",
   "execution_count": null,
   "id": "b2a49f56",
   "metadata": {
    "id": "b2a49f56"
   },
   "outputs": [],
   "source": [
    "arr13, arr14 = np.vsplit(big_array, 2)"
   ]
  },
  {
   "cell_type": "code",
   "execution_count": null,
   "id": "c90082b0",
   "metadata": {
    "id": "c90082b0",
    "outputId": "52646c1e-9c85-4b1a-a9cf-3e3ff7554c98"
   },
   "outputs": [
    {
     "data": {
      "text/plain": [
       "array([[ 0,  1,  2,  3,  4,  5,  6,  7,  8,  9],\n",
       "       [10, 11, 12, 13, 14, 15, 16, 17, 18, 19],\n",
       "       [20, 21, 22, 23, 24, 25, 26, 27, 28, 29],\n",
       "       [30, 31, 32, 33, 34, 35, 36, 37, 38, 39],\n",
       "       [40, 41, 42, 43, 44, 45, 46, 47, 48, 49],\n",
       "       [50, 51, 52, 53, 54, 55, 56, 57, 58, 59]])"
      ]
     },
     "execution_count": 23,
     "metadata": {},
     "output_type": "execute_result"
    }
   ],
   "source": [
    "arr13"
   ]
  },
  {
   "cell_type": "code",
   "execution_count": null,
   "id": "8eb20666",
   "metadata": {
    "id": "8eb20666"
   },
   "outputs": [],
   "source": []
  },
  {
   "cell_type": "code",
   "execution_count": null,
   "id": "bfe915a8",
   "metadata": {
    "id": "bfe915a8"
   },
   "outputs": [],
   "source": []
  },
  {
   "cell_type": "code",
   "execution_count": null,
   "id": "1c0b5095",
   "metadata": {
    "id": "1c0b5095"
   },
   "outputs": [],
   "source": [
    "arr_3 = np.array([10,20,30])\n",
    "arr_4 = np.array([50,60,70])"
   ]
  },
  {
   "cell_type": "code",
   "execution_count": null,
   "id": "54d227dc",
   "metadata": {
    "id": "54d227dc"
   },
   "outputs": [],
   "source": [
    "arr1 = np.arange(1,10).reshape(3,3)\n",
    "arr2 = np.arange(10,19).reshape(3,3)"
   ]
  },
  {
   "cell_type": "code",
   "execution_count": null,
   "id": "be346b1e",
   "metadata": {
    "id": "be346b1e"
   },
   "outputs": [],
   "source": [
    "np.concatenate((arr1, arr2), axis=0)"
   ]
  },
  {
   "cell_type": "code",
   "execution_count": null,
   "id": "1f1248c5",
   "metadata": {
    "id": "1f1248c5"
   },
   "outputs": [],
   "source": [
    "np.hstack((arr1, arr2))"
   ]
  },
  {
   "cell_type": "code",
   "execution_count": null,
   "id": "5d2404a1",
   "metadata": {
    "id": "5d2404a1"
   },
   "outputs": [],
   "source": [
    "np.vstack((arr1, arr2))"
   ]
  },
  {
   "cell_type": "code",
   "execution_count": null,
   "id": "4e695f86",
   "metadata": {
    "id": "4e695f86"
   },
   "outputs": [],
   "source": [
    "np.column_stack((arr1, arr_1))"
   ]
  },
  {
   "cell_type": "code",
   "execution_count": null,
   "id": "922a0735",
   "metadata": {
    "id": "922a0735"
   },
   "outputs": [],
   "source": [
    "arr_new = np.arange(20).reshape(5,4)"
   ]
  },
  {
   "cell_type": "code",
   "execution_count": null,
   "id": "d8a03062",
   "metadata": {
    "id": "d8a03062"
   },
   "outputs": [],
   "source": [
    "np.vsplit(arr_new, 5)"
   ]
  },
  {
   "cell_type": "code",
   "execution_count": null,
   "id": "a7939e1f",
   "metadata": {
    "id": "a7939e1f"
   },
   "outputs": [],
   "source": [
    "np.hsplit(arr_new, 5)"
   ]
  },
  {
   "cell_type": "markdown",
   "id": "ef4bf906",
   "metadata": {
    "id": "ef4bf906"
   },
   "source": [
    "### <font color='maroon'>Array Shape Manipulation</font>"
   ]
  },
  {
   "cell_type": "markdown",
   "id": "5eeb5789",
   "metadata": {
    "id": "5eeb5789"
   },
   "source": [
    "**<font color='blue'>Reshaping</font>**\n",
    "\n",
    "Reshape method does not change the shape of original array but returns a new array of the desired shape"
   ]
  },
  {
   "cell_type": "code",
   "execution_count": 158,
   "id": "1dce0fa0",
   "metadata": {
    "id": "1dce0fa0"
   },
   "outputs": [
    {
     "data": {
      "text/plain": [
       "array([[[ 0,  1],\n",
       "        [ 2,  3],\n",
       "        [ 4,  5],\n",
       "        [ 6,  7]],\n",
       "\n",
       "       [[ 8,  9],\n",
       "        [10, 11],\n",
       "        [12, 13],\n",
       "        [14, 15]],\n",
       "\n",
       "       [[16, 17],\n",
       "        [18, 19],\n",
       "        [20, 21],\n",
       "        [22, 23]]])"
      ]
     },
     "execution_count": 158,
     "metadata": {},
     "output_type": "execute_result"
    }
   ],
   "source": [
    "arr15 = np.arange(24).reshape(3,4,2)\n",
    "arr15"
   ]
  },
  {
   "cell_type": "code",
   "execution_count": 159,
   "id": "761f8242",
   "metadata": {
    "id": "761f8242"
   },
   "outputs": [
    {
     "data": {
      "text/plain": [
       "array([[1, 2, 3],\n",
       "       [4, 5, 6]])"
      ]
     },
     "execution_count": 159,
     "metadata": {},
     "output_type": "execute_result"
    }
   ],
   "source": [
    "import numpy as np\n",
    "b = np.array([1, 2, 3, 4, 5, 6]).reshape(2,3)\n",
    "b"
   ]
  },
  {
   "cell_type": "code",
   "execution_count": 160,
   "id": "1e17895a",
   "metadata": {
    "id": "1e17895a"
   },
   "outputs": [
    {
     "data": {
      "text/plain": [
       "array([[1, 2],\n",
       "       [3, 4],\n",
       "       [5, 6]])"
      ]
     },
     "execution_count": 160,
     "metadata": {},
     "output_type": "execute_result"
    }
   ],
   "source": [
    "b.reshape(3,2)"
   ]
  },
  {
   "cell_type": "code",
   "execution_count": 161,
   "id": "38c1a8f2",
   "metadata": {
    "id": "38c1a8f2"
   },
   "outputs": [
    {
     "data": {
      "text/plain": [
       "array([1, 2, 3, 4, 5, 6])"
      ]
     },
     "execution_count": 161,
     "metadata": {},
     "output_type": "execute_result"
    }
   ],
   "source": [
    "b.ravel()"
   ]
  },
  {
   "cell_type": "code",
   "execution_count": 162,
   "id": "1799f54a",
   "metadata": {
    "id": "1799f54a"
   },
   "outputs": [
    {
     "data": {
      "text/plain": [
       "array([[1, 4],\n",
       "       [2, 5],\n",
       "       [3, 6]])"
      ]
     },
     "execution_count": 162,
     "metadata": {},
     "output_type": "execute_result"
    }
   ],
   "source": [
    "b.transpose()"
   ]
  },
  {
   "cell_type": "markdown",
   "id": "4d786f89",
   "metadata": {
    "id": "4d786f89"
   },
   "source": [
    "#### Reshaping to 3D array"
   ]
  },
  {
   "cell_type": "code",
   "execution_count": 163,
   "id": "bcf86078",
   "metadata": {
    "id": "bcf86078"
   },
   "outputs": [],
   "source": [
    "arr_new = np.arange(24).reshape(4,3,2)"
   ]
  },
  {
   "cell_type": "code",
   "execution_count": 164,
   "id": "b72b9083",
   "metadata": {
    "id": "b72b9083"
   },
   "outputs": [
    {
     "data": {
      "text/plain": [
       "array([[[ 0,  1],\n",
       "        [ 2,  3],\n",
       "        [ 4,  5]],\n",
       "\n",
       "       [[ 6,  7],\n",
       "        [ 8,  9],\n",
       "        [10, 11]],\n",
       "\n",
       "       [[12, 13],\n",
       "        [14, 15],\n",
       "        [16, 17]],\n",
       "\n",
       "       [[18, 19],\n",
       "        [20, 21],\n",
       "        [22, 23]]])"
      ]
     },
     "execution_count": 164,
     "metadata": {},
     "output_type": "execute_result"
    }
   ],
   "source": [
    "arr_new"
   ]
  },
  {
   "cell_type": "code",
   "execution_count": 165,
   "id": "d80b6115",
   "metadata": {
    "id": "d80b6115"
   },
   "outputs": [
    {
     "data": {
      "text/plain": [
       "3"
      ]
     },
     "execution_count": 165,
     "metadata": {},
     "output_type": "execute_result"
    }
   ],
   "source": [
    "arr_new.ndim"
   ]
  },
  {
   "cell_type": "markdown",
   "id": "2b766209",
   "metadata": {
    "id": "2b766209"
   },
   "source": [
    "## Sorting"
   ]
  },
  {
   "cell_type": "code",
   "execution_count": 168,
   "id": "a114af12",
   "metadata": {
    "id": "a114af12"
   },
   "outputs": [],
   "source": [
    "arr_1d = np.array([9,3,11,4,1,15])"
   ]
  },
  {
   "cell_type": "code",
   "execution_count": 169,
   "id": "bea75b89",
   "metadata": {
    "id": "bea75b89"
   },
   "outputs": [
    {
     "data": {
      "text/plain": [
       "array([4, 1, 3, 0, 2, 5], dtype=int64)"
      ]
     },
     "execution_count": 169,
     "metadata": {},
     "output_type": "execute_result"
    }
   ],
   "source": [
    "np.argsort(arr_1d)"
   ]
  },
  {
   "cell_type": "markdown",
   "id": "b279acff",
   "metadata": {
    "id": "b279acff"
   },
   "source": [
    "## Read Data from text file"
   ]
  },
  {
   "cell_type": "code",
   "execution_count": null,
   "id": "29c6c2ea",
   "metadata": {
    "id": "29c6c2ea"
   },
   "outputs": [],
   "source": []
  },
  {
   "cell_type": "code",
   "execution_count": null,
   "id": "ce4bd069",
   "metadata": {
    "id": "ce4bd069"
   },
   "outputs": [],
   "source": []
  },
  {
   "cell_type": "markdown",
   "id": "b859c27c",
   "metadata": {
    "id": "b859c27c"
   },
   "source": [
    "## Broadcasting"
   ]
  },
  {
   "cell_type": "markdown",
   "id": "98a820f8",
   "metadata": {
    "id": "98a820f8"
   },
   "source": [
    "Basic operations on numpy arrays (addition, etc.) are elementwise\n",
    "\n",
    "This works on arrays of the same size. Nevertheless, It’s also possible to do operations on arrays of different sizes if NumPy can transform these arrays so that they all have the same size: this conversion is called broadcasting.\n",
    "\n",
    "The image below gives an example of broadcasting:"
   ]
  },
  {
   "cell_type": "code",
   "execution_count": 173,
   "id": "20db3550",
   "metadata": {
    "id": "20db3550"
   },
   "outputs": [],
   "source": [
    "arr11 = np.arange(12).reshape(4,3)\n",
    "arr12 = np.arange(9).reshape(3,3)"
   ]
  },
  {
   "cell_type": "code",
   "execution_count": 174,
   "id": "4f41bd9f",
   "metadata": {
    "id": "4f41bd9f",
    "outputId": "8c65fbdf-2b53-418d-fce4-2756bba78ff8"
   },
   "outputs": [
    {
     "ename": "ValueError",
     "evalue": "operands could not be broadcast together with shapes (4,3) (3,3) ",
     "output_type": "error",
     "traceback": [
      "\u001b[1;31m---------------------------------------------------------------------------\u001b[0m",
      "\u001b[1;31mValueError\u001b[0m                                Traceback (most recent call last)",
      "Cell \u001b[1;32mIn[174], line 1\u001b[0m\n\u001b[1;32m----> 1\u001b[0m \u001b[43marr11\u001b[49m\u001b[43m \u001b[49m\u001b[38;5;241;43m*\u001b[39;49m\u001b[43m \u001b[49m\u001b[43marr12\u001b[49m\n",
      "\u001b[1;31mValueError\u001b[0m: operands could not be broadcast together with shapes (4,3) (3,3) "
     ]
    }
   ],
   "source": [
    "arr11 * arr12"
   ]
  },
  {
   "cell_type": "markdown",
   "id": "7c2bcc15",
   "metadata": {
    "id": "7c2bcc15"
   },
   "source": [
    "![numpy_broadcasting.png](attachment:numpy_broadcasting.png)"
   ]
  },
  {
   "cell_type": "code",
   "execution_count": null,
   "id": "7da5224b",
   "metadata": {
    "id": "7da5224b",
    "outputId": "61ccd7eb-2d0b-4364-e448-53792297b554"
   },
   "outputs": [
    {
     "name": "stdout",
     "output_type": "stream",
     "text": [
      "[[ 0 10 20 30]\n",
      " [ 0 10 20 30]\n",
      " [ 0 10 20 30]]\n",
      "*************\n",
      "[[ 0  0  0]\n",
      " [10 10 10]\n",
      " [20 20 20]\n",
      " [30 30 30]]\n"
     ]
    }
   ],
   "source": [
    "a = np.tile(np.arange(0, 40, 10), (3,1))\n",
    "print(a)\n",
    "\n",
    "print(\"*************\")\n",
    "a=a.T\n",
    "print(a)"
   ]
  },
  {
   "cell_type": "code",
   "execution_count": null,
   "id": "aae0ae28",
   "metadata": {
    "id": "aae0ae28",
    "outputId": "ca448fdf-b60c-4400-bce3-4e3899f9e334"
   },
   "outputs": [
    {
     "data": {
      "text/plain": [
       "array([0, 1, 2])"
      ]
     },
     "execution_count": 138,
     "metadata": {},
     "output_type": "execute_result"
    }
   ],
   "source": [
    "b = np.array([0, 1, 2])\n",
    "b"
   ]
  },
  {
   "cell_type": "code",
   "execution_count": null,
   "id": "d7b7bb4f",
   "metadata": {
    "id": "d7b7bb4f",
    "outputId": "662ea387-bb48-4c2f-eb20-4519ca949ca1"
   },
   "outputs": [
    {
     "data": {
      "text/plain": [
       "array([[ 0,  1,  2],\n",
       "       [10, 11, 12],\n",
       "       [20, 21, 22],\n",
       "       [30, 31, 32]])"
      ]
     },
     "execution_count": 204,
     "metadata": {},
     "output_type": "execute_result"
    }
   ],
   "source": [
    "a + b"
   ]
  },
  {
   "cell_type": "code",
   "execution_count": null,
   "id": "43387079",
   "metadata": {
    "id": "43387079"
   },
   "outputs": [],
   "source": []
  },
  {
   "cell_type": "code",
   "execution_count": null,
   "id": "7bc29c33",
   "metadata": {
    "id": "7bc29c33",
    "outputId": "a1195871-4985-4348-9723-671334ae95af"
   },
   "outputs": [
    {
     "data": {
      "text/plain": [
       "(4,)"
      ]
     },
     "execution_count": 134,
     "metadata": {},
     "output_type": "execute_result"
    }
   ],
   "source": [
    "a_1d = np.arange(0, 40, 10)\n",
    "a_1d.shape"
   ]
  },
  {
   "cell_type": "code",
   "execution_count": null,
   "id": "5ab417d1",
   "metadata": {
    "id": "5ab417d1",
    "outputId": "599afffa-0e41-464f-fa50-1cfd39fd7aa2"
   },
   "outputs": [
    {
     "data": {
      "text/plain": [
       "(4, 1)"
      ]
     },
     "execution_count": 135,
     "metadata": {},
     "output_type": "execute_result"
    }
   ],
   "source": [
    "a_2d = a_1d[:, np.newaxis]  # adds a new axis -> 2D array\n",
    "a_2d.shape"
   ]
  },
  {
   "cell_type": "code",
   "execution_count": null,
   "id": "4eef4a9f",
   "metadata": {
    "id": "4eef4a9f",
    "outputId": "0f527cd8-6fa7-4402-b843-ed5f4a77b214"
   },
   "outputs": [
    {
     "data": {
      "text/plain": [
       "array([[ 0],\n",
       "       [10],\n",
       "       [20],\n",
       "       [30]])"
      ]
     },
     "execution_count": 136,
     "metadata": {},
     "output_type": "execute_result"
    }
   ],
   "source": [
    "a_2d"
   ]
  },
  {
   "cell_type": "code",
   "execution_count": null,
   "id": "05895173",
   "metadata": {
    "id": "05895173",
    "outputId": "3376c2cd-07b7-41bf-be20-9262c7aabdda"
   },
   "outputs": [
    {
     "data": {
      "text/plain": [
       "array([0, 1, 2])"
      ]
     },
     "execution_count": 140,
     "metadata": {},
     "output_type": "execute_result"
    }
   ],
   "source": [
    "b"
   ]
  },
  {
   "cell_type": "code",
   "execution_count": null,
   "id": "ece18dd0",
   "metadata": {
    "id": "ece18dd0",
    "outputId": "fa4db45c-a814-4d95-a4cb-ef34ae82c768"
   },
   "outputs": [
    {
     "data": {
      "text/plain": [
       "array([[ 0,  1,  2],\n",
       "       [10, 11, 12],\n",
       "       [20, 21, 22],\n",
       "       [30, 31, 32]])"
      ]
     },
     "execution_count": 139,
     "metadata": {},
     "output_type": "execute_result"
    }
   ],
   "source": [
    "a_2d + b"
   ]
  },
  {
   "cell_type": "code",
   "execution_count": null,
   "id": "01dc54f5",
   "metadata": {
    "id": "01dc54f5"
   },
   "outputs": [],
   "source": []
  }
 ],
 "metadata": {
  "colab": {
   "provenance": []
  },
  "kernelspec": {
   "display_name": "Python 3 (ipykernel)",
   "language": "python",
   "name": "python3"
  },
  "language_info": {
   "codemirror_mode": {
    "name": "ipython",
    "version": 3
   },
   "file_extension": ".py",
   "mimetype": "text/x-python",
   "name": "python",
   "nbconvert_exporter": "python",
   "pygments_lexer": "ipython3",
   "version": "3.10.9"
  }
 },
 "nbformat": 4,
 "nbformat_minor": 5
}
